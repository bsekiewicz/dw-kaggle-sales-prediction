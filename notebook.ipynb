{
 "cells": [
  {
   "cell_type": "markdown",
   "id": "jewish-layout",
   "metadata": {},
   "source": [
    "# Data Science Master Class\n",
    "# Prognozowanie tygodniowej sprzedaży na rok do przodu.\n",
    "\n",
    "💡 Data Science Master Class to cykl dla osób, które znają już podstawowe narzędzia Data Science & Machine Learnig, ale chcą nauczyć się, jak wykorzystwać je w praktyce i na prawdziwych danych lub podnieść poziom swoich praktycznych umiejętności. \n",
    "\n",
    "### Podczas data science master class uczymy się w ramach zdrowej grywalizacji i konkursu na Kaggle 🤖 \n",
    "\n",
    "Konkurs będzie dostępny na Kaggle - link do [konkursu](https://www.kaggle.com/t/dde03996c8804dbd94baaf41c610c681).\n",
    "\n",
    "#### 💪 Celem tej inicjatywy jest możliwość wypracowania umiejętności samodzielnej pracy nad rozwiązywaniem konkretnego problemu oraz dobra zabawa :) \n",
    "\n",
    "#### 👉 Poza tym budujesz swoje portfolio 🤗 \n",
    "\n",
    "\n",
    "## Zadanie: **Prognozowanie sprzedaży tygodniowej na rok do przodu** \n",
    "\n",
    "\n",
    "Naszym zadaniem będzie zbudować model, który prognozuje dla każdego sklepu tygodniową sprzedaż używając danych historycznych. \n",
    "\n",
    "\n",
    "## Metryka sukcesu\n",
    "\n",
    "\n",
    "Metryką sukcesu w tym zadaniu będzie: `MAE` (taka metryka jest ustawiona na Kaggle i według takiej metryki sukcesu będzie przeliczany Twój wynik). \n",
    "\n",
    "\n",
    "*Mówiąc po ludzku, metryka sukcesu to sposób mierzenia, jaki ma błąd model. Daje nam to też możliwość jednoznacznie porównać np. model A i model B. Natomiast trzeba od razu zrozumieć, że nie ma idealnej metryki (każda z nich ma wady), ale są takie, które mogą być przydatne w danym konteście (zadaniu).* \n",
    "\n",
    "\n",
    "## Dane\n",
    "\n",
    "\n",
    "### Sales\n",
    "\n",
    "Historyczne dane sprzedaży:\n",
    "\n",
    "- `store` - numer sklepu (sklep zawiera jeden lub więcej oddziałów)\n",
    "- `dept` - numer oddziału\n",
    "- `date` - tydzień (dane są zebrane w tygodniowe grupy)\n",
    "- `weekly_sales` -  sprzedaż dla danego działu w danym sklepie\n",
    "- `is_holiday` - czy tydzień jest specjalnym tygodniem (świątecznym)\n",
    "\n",
    "### Cechy (dodatkowe informacje zewnętrzne)\n",
    "Zawierają dodatkowe dane związane ze sklepem, działem i aktywnością regionalną w podanych terminach.\n",
    "\n",
    "- `store` - the store number,\n",
    "- `date` - tydzień (dane są zebrane w tygodniowe grupy),\n",
    "- `temperature` - średnia temperatura w regionie,\n",
    "- `fuel_price` - koszt paliwa w regionie,\n",
    "- `mark_down1-5` - zanonimizowane dane związane z promocyjnymi obniżkami cen. Dane `mark_down` są dostępne dopiero po listopadzie 2011 i nie są dostępne dla wszystkich sklepów przez cały czas. Wszelkie brakujące wartości są oznaczone NA.\n",
    "- `cpi` - indeks cen konsumpcyjnych (ang. `the consumer price index`),\n",
    "- `unemployment` - stopa bezrobocia,\n",
    "- `is_holiday` - czy tydzień jest specjalnym tygodniem świątecznym. \n",
    "\n",
    "### Store\n",
    "\n",
    "Dodatkowo jeszcze mamy informacę o rodzaju oraz wielkości sklepu."
   ]
  },
  {
   "cell_type": "markdown",
   "id": "engaged-organization",
   "metadata": {},
   "source": [
    "## ✔️ Wczytujemy biblioteki"
   ]
  },
  {
   "cell_type": "code",
   "execution_count": 1,
   "id": "eleven-ozone",
   "metadata": {},
   "outputs": [],
   "source": [
    "import pickle\n",
    "import pandas as pd\n",
    "import numpy as np\n",
    "\n",
    "import matplotlib.pyplot as plt\n",
    "plt.rcParams[\"figure.figsize\"] = (15, 5)\n",
    "import seaborn as sns\n",
    "\n",
    "from sklearn.tree import DecisionTreeRegressor\n",
    "from sklearn.ensemble import RandomForestRegressor\n",
    "import xgboost as xgb\n",
    "import lightgbm as lgb\n",
    "\n",
    "import eli5\n",
    "from eli5.sklearn import PermutationImportance\n",
    "\n",
    "from sklearn.model_selection import cross_val_score, train_test_split, ShuffleSplit\n",
    "from sklearn.metrics import mean_absolute_error\n",
    "\n",
    "import optuna"
   ]
  },
  {
   "cell_type": "markdown",
   "id": "acoustic-spice",
   "metadata": {},
   "source": [
    "## ✔️ Wczytujemy dane"
   ]
  },
  {
   "cell_type": "code",
   "execution_count": 2,
   "id": "supported-front",
   "metadata": {},
   "outputs": [
    {
     "data": {
      "text/html": [
       "<div>\n",
       "<style scoped>\n",
       "    .dataframe tbody tr th:only-of-type {\n",
       "        vertical-align: middle;\n",
       "    }\n",
       "\n",
       "    .dataframe tbody tr th {\n",
       "        vertical-align: top;\n",
       "    }\n",
       "\n",
       "    .dataframe thead th {\n",
       "        text-align: right;\n",
       "    }\n",
       "</style>\n",
       "<table border=\"1\" class=\"dataframe\">\n",
       "  <thead>\n",
       "    <tr style=\"text-align: right;\">\n",
       "      <th></th>\n",
       "      <th>id</th>\n",
       "      <th>weekly_sales</th>\n",
       "      <th>store</th>\n",
       "      <th>dept</th>\n",
       "      <th>date</th>\n",
       "      <th>is_holiday</th>\n",
       "      <th>is_train</th>\n",
       "    </tr>\n",
       "  </thead>\n",
       "  <tbody>\n",
       "    <tr>\n",
       "      <th>6990</th>\n",
       "      <td>6990</td>\n",
       "      <td>23116.890625</td>\n",
       "      <td>31</td>\n",
       "      <td>10</td>\n",
       "      <td>30/09/2011</td>\n",
       "      <td>False</td>\n",
       "      <td>True</td>\n",
       "    </tr>\n",
       "    <tr>\n",
       "      <th>389551</th>\n",
       "      <td>389551</td>\n",
       "      <td>NaN</td>\n",
       "      <td>35</td>\n",
       "      <td>95</td>\n",
       "      <td>12/10/2012</td>\n",
       "      <td>False</td>\n",
       "      <td>False</td>\n",
       "    </tr>\n",
       "    <tr>\n",
       "      <th>314146</th>\n",
       "      <td>314146</td>\n",
       "      <td>1430.000000</td>\n",
       "      <td>13</td>\n",
       "      <td>48</td>\n",
       "      <td>13/05/2011</td>\n",
       "      <td>False</td>\n",
       "      <td>True</td>\n",
       "    </tr>\n",
       "    <tr>\n",
       "      <th>418427</th>\n",
       "      <td>418427</td>\n",
       "      <td>0.500000</td>\n",
       "      <td>28</td>\n",
       "      <td>18</td>\n",
       "      <td>14/05/2010</td>\n",
       "      <td>False</td>\n",
       "      <td>True</td>\n",
       "    </tr>\n",
       "    <tr>\n",
       "      <th>372470</th>\n",
       "      <td>372470</td>\n",
       "      <td>3500.000000</td>\n",
       "      <td>31</td>\n",
       "      <td>58</td>\n",
       "      <td>08/10/2010</td>\n",
       "      <td>False</td>\n",
       "      <td>True</td>\n",
       "    </tr>\n",
       "  </tbody>\n",
       "</table>\n",
       "</div>"
      ],
      "text/plain": [
       "            id  weekly_sales  store  dept        date  is_holiday  is_train\n",
       "6990      6990  23116.890625     31    10  30/09/2011       False      True\n",
       "389551  389551           NaN     35    95  12/10/2012       False     False\n",
       "314146  314146   1430.000000     13    48  13/05/2011       False      True\n",
       "418427  418427      0.500000     28    18  14/05/2010       False      True\n",
       "372470  372470   3500.000000     31    58  08/10/2010       False      True"
      ]
     },
     "execution_count": 2,
     "metadata": {},
     "output_type": "execute_result"
    }
   ],
   "source": [
    "df_sales_train = pd.read_hdf(\"../input/sales_train.h5\")\n",
    "df_sales_train['is_train'] = True\n",
    "df_sales_test  = pd.read_hdf(\"../input/sales_test.h5\")\n",
    "df_sales_test['is_train'] = False\n",
    "df_sales = pd.concat([df_sales_train, df_sales_test])\n",
    "df_sales.sample(5)"
   ]
  },
  {
   "cell_type": "code",
   "execution_count": 3,
   "id": "instructional-cologne",
   "metadata": {},
   "outputs": [
    {
     "name": "stdout",
     "output_type": "stream",
     "text": [
      "<class 'pandas.core.frame.DataFrame'>\n",
      "Int64Index: 421570 entries, 1 to 421569\n",
      "Data columns (total 7 columns):\n",
      " #   Column        Non-Null Count   Dtype  \n",
      "---  ------        --------------   -----  \n",
      " 0   id            421570 non-null  int32  \n",
      " 1   weekly_sales  285089 non-null  float32\n",
      " 2   store         421570 non-null  int8   \n",
      " 3   dept          421570 non-null  int8   \n",
      " 4   date          421570 non-null  object \n",
      " 5   is_holiday    421570 non-null  bool   \n",
      " 6   is_train      421570 non-null  bool   \n",
      "dtypes: bool(2), float32(1), int32(1), int8(2), object(1)\n",
      "memory usage: 11.3+ MB\n"
     ]
    }
   ],
   "source": [
    "df_sales.info()"
   ]
  },
  {
   "cell_type": "code",
   "execution_count": 4,
   "id": "numeric-mercy",
   "metadata": {},
   "outputs": [
    {
     "data": {
      "text/html": [
       "<div>\n",
       "<style scoped>\n",
       "    .dataframe tbody tr th:only-of-type {\n",
       "        vertical-align: middle;\n",
       "    }\n",
       "\n",
       "    .dataframe tbody tr th {\n",
       "        vertical-align: top;\n",
       "    }\n",
       "\n",
       "    .dataframe thead th {\n",
       "        text-align: right;\n",
       "    }\n",
       "</style>\n",
       "<table border=\"1\" class=\"dataframe\">\n",
       "  <thead>\n",
       "    <tr style=\"text-align: right;\">\n",
       "      <th></th>\n",
       "      <th>store</th>\n",
       "      <th>date</th>\n",
       "      <th>temperature</th>\n",
       "      <th>fuel_price</th>\n",
       "      <th>mark_down1</th>\n",
       "      <th>mark_down2</th>\n",
       "      <th>mark_down3</th>\n",
       "      <th>mark_down4</th>\n",
       "      <th>mark_down5</th>\n",
       "      <th>cpi</th>\n",
       "      <th>unemployment</th>\n",
       "      <th>is_holiday</th>\n",
       "    </tr>\n",
       "  </thead>\n",
       "  <tbody>\n",
       "    <tr>\n",
       "      <th>7646</th>\n",
       "      <td>43</td>\n",
       "      <td>19/02/2010</td>\n",
       "      <td>9.320312</td>\n",
       "      <td>2.513672</td>\n",
       "      <td>NaN</td>\n",
       "      <td>NaN</td>\n",
       "      <td>NaN</td>\n",
       "      <td>NaN</td>\n",
       "      <td>NaN</td>\n",
       "      <td>203.250</td>\n",
       "      <td>9.523438</td>\n",
       "      <td>False</td>\n",
       "    </tr>\n",
       "    <tr>\n",
       "      <th>392</th>\n",
       "      <td>3</td>\n",
       "      <td>20/08/2010</td>\n",
       "      <td>31.125000</td>\n",
       "      <td>2.664062</td>\n",
       "      <td>NaN</td>\n",
       "      <td>NaN</td>\n",
       "      <td>NaN</td>\n",
       "      <td>NaN</td>\n",
       "      <td>NaN</td>\n",
       "      <td>214.875</td>\n",
       "      <td>7.347656</td>\n",
       "      <td>False</td>\n",
       "    </tr>\n",
       "    <tr>\n",
       "      <th>4415</th>\n",
       "      <td>25</td>\n",
       "      <td>31/12/2010</td>\n",
       "      <td>-3.394531</td>\n",
       "      <td>3.179688</td>\n",
       "      <td>NaN</td>\n",
       "      <td>NaN</td>\n",
       "      <td>NaN</td>\n",
       "      <td>NaN</td>\n",
       "      <td>NaN</td>\n",
       "      <td>204.625</td>\n",
       "      <td>7.484375</td>\n",
       "      <td>True</td>\n",
       "    </tr>\n",
       "    <tr>\n",
       "      <th>8046</th>\n",
       "      <td>45</td>\n",
       "      <td>29/10/2010</td>\n",
       "      <td>16.281250</td>\n",
       "      <td>2.921875</td>\n",
       "      <td>NaN</td>\n",
       "      <td>NaN</td>\n",
       "      <td>NaN</td>\n",
       "      <td>NaN</td>\n",
       "      <td>NaN</td>\n",
       "      <td>182.875</td>\n",
       "      <td>8.726562</td>\n",
       "      <td>False</td>\n",
       "    </tr>\n",
       "    <tr>\n",
       "      <th>3549</th>\n",
       "      <td>20</td>\n",
       "      <td>04/11/2011</td>\n",
       "      <td>6.601562</td>\n",
       "      <td>3.550781</td>\n",
       "      <td>NaN</td>\n",
       "      <td>NaN</td>\n",
       "      <td>NaN</td>\n",
       "      <td>NaN</td>\n",
       "      <td>NaN</td>\n",
       "      <td>210.875</td>\n",
       "      <td>7.082031</td>\n",
       "      <td>False</td>\n",
       "    </tr>\n",
       "  </tbody>\n",
       "</table>\n",
       "</div>"
      ],
      "text/plain": [
       "      store        date  temperature  fuel_price  mark_down1  mark_down2  \\\n",
       "7646     43  19/02/2010     9.320312    2.513672         NaN         NaN   \n",
       "392       3  20/08/2010    31.125000    2.664062         NaN         NaN   \n",
       "4415     25  31/12/2010    -3.394531    3.179688         NaN         NaN   \n",
       "8046     45  29/10/2010    16.281250    2.921875         NaN         NaN   \n",
       "3549     20  04/11/2011     6.601562    3.550781         NaN         NaN   \n",
       "\n",
       "      mark_down3  mark_down4  mark_down5      cpi  unemployment  is_holiday  \n",
       "7646         NaN         NaN         NaN  203.250      9.523438       False  \n",
       "392          NaN         NaN         NaN  214.875      7.347656       False  \n",
       "4415         NaN         NaN         NaN  204.625      7.484375        True  \n",
       "8046         NaN         NaN         NaN  182.875      8.726562       False  \n",
       "3549         NaN         NaN         NaN  210.875      7.082031       False  "
      ]
     },
     "execution_count": 4,
     "metadata": {},
     "output_type": "execute_result"
    }
   ],
   "source": [
    "df_features_train = pd.read_hdf(\"../input/features_train.h5\")\n",
    "df_features_test = pd.read_hdf(\"../input/features_test.h5\")\n",
    "df_features = pd.concat([df_features_train, df_features_test])\n",
    "df_features.sample(5)"
   ]
  },
  {
   "cell_type": "code",
   "execution_count": 5,
   "id": "appointed-context",
   "metadata": {},
   "outputs": [
    {
     "name": "stdout",
     "output_type": "stream",
     "text": [
      "<class 'pandas.core.frame.DataFrame'>\n",
      "Int64Index: 8190 entries, 0 to 8189\n",
      "Data columns (total 12 columns):\n",
      " #   Column        Non-Null Count  Dtype  \n",
      "---  ------        --------------  -----  \n",
      " 0   store         8190 non-null   int8   \n",
      " 1   date          8190 non-null   object \n",
      " 2   temperature   4365 non-null   float16\n",
      " 3   fuel_price    4365 non-null   float16\n",
      " 4   mark_down1    220 non-null    float16\n",
      " 5   mark_down2    182 non-null    float16\n",
      " 6   mark_down3    214 non-null    float16\n",
      " 7   mark_down4    184 non-null    float16\n",
      " 8   mark_down5    225 non-null    float16\n",
      " 9   cpi           4365 non-null   float16\n",
      " 10  unemployment  4365 non-null   float16\n",
      " 11  is_holiday    8190 non-null   bool   \n",
      "dtypes: bool(1), float16(9), int8(1), object(1)\n",
      "memory usage: 287.9+ KB\n"
     ]
    }
   ],
   "source": [
    "df_features.info()"
   ]
  },
  {
   "cell_type": "code",
   "execution_count": 6,
   "id": "visible-warning",
   "metadata": {},
   "outputs": [
    {
     "data": {
      "text/html": [
       "<div>\n",
       "<style scoped>\n",
       "    .dataframe tbody tr th:only-of-type {\n",
       "        vertical-align: middle;\n",
       "    }\n",
       "\n",
       "    .dataframe tbody tr th {\n",
       "        vertical-align: top;\n",
       "    }\n",
       "\n",
       "    .dataframe thead th {\n",
       "        text-align: right;\n",
       "    }\n",
       "</style>\n",
       "<table border=\"1\" class=\"dataframe\">\n",
       "  <thead>\n",
       "    <tr style=\"text-align: right;\">\n",
       "      <th></th>\n",
       "      <th>store</th>\n",
       "      <th>store_type</th>\n",
       "      <th>store_size</th>\n",
       "    </tr>\n",
       "  </thead>\n",
       "  <tbody>\n",
       "    <tr>\n",
       "      <th>23</th>\n",
       "      <td>24</td>\n",
       "      <td>A</td>\n",
       "      <td>203819</td>\n",
       "    </tr>\n",
       "    <tr>\n",
       "      <th>26</th>\n",
       "      <td>27</td>\n",
       "      <td>A</td>\n",
       "      <td>204184</td>\n",
       "    </tr>\n",
       "    <tr>\n",
       "      <th>4</th>\n",
       "      <td>5</td>\n",
       "      <td>B</td>\n",
       "      <td>34875</td>\n",
       "    </tr>\n",
       "    <tr>\n",
       "      <th>6</th>\n",
       "      <td>7</td>\n",
       "      <td>B</td>\n",
       "      <td>70713</td>\n",
       "    </tr>\n",
       "    <tr>\n",
       "      <th>14</th>\n",
       "      <td>15</td>\n",
       "      <td>B</td>\n",
       "      <td>123737</td>\n",
       "    </tr>\n",
       "  </tbody>\n",
       "</table>\n",
       "</div>"
      ],
      "text/plain": [
       "    store store_type  store_size\n",
       "23     24          A      203819\n",
       "26     27          A      204184\n",
       "4       5          B       34875\n",
       "6       7          B       70713\n",
       "14     15          B      123737"
      ]
     },
     "execution_count": 6,
     "metadata": {},
     "output_type": "execute_result"
    }
   ],
   "source": [
    "df_store = pd.read_csv(\"../input/stores_data.csv\")\n",
    "df_store.columns = [\"store\", \"store_type\", \"store_size\"]\n",
    "df_store.sample(5)"
   ]
  },
  {
   "cell_type": "code",
   "execution_count": 7,
   "id": "occupational-beijing",
   "metadata": {},
   "outputs": [
    {
     "name": "stdout",
     "output_type": "stream",
     "text": [
      "<class 'pandas.core.frame.DataFrame'>\n",
      "RangeIndex: 45 entries, 0 to 44\n",
      "Data columns (total 3 columns):\n",
      " #   Column      Non-Null Count  Dtype \n",
      "---  ------      --------------  ----- \n",
      " 0   store       45 non-null     int64 \n",
      " 1   store_type  45 non-null     object\n",
      " 2   store_size  45 non-null     int64 \n",
      "dtypes: int64(2), object(1)\n",
      "memory usage: 1.2+ KB\n"
     ]
    }
   ],
   "source": [
    "df_store.info()"
   ]
  },
  {
   "cell_type": "markdown",
   "id": "diverse-present",
   "metadata": {},
   "source": [
    "### Jedna ramka danych"
   ]
  },
  {
   "cell_type": "code",
   "execution_count": 8,
   "id": "pressed-failure",
   "metadata": {},
   "outputs": [],
   "source": [
    "df = df_sales.merge(df_features, how='left', on=['date', 'store'])\n",
    "df = df.merge(df_store, how='left', on=['store'])"
   ]
  },
  {
   "cell_type": "code",
   "execution_count": 9,
   "id": "meaning-hollywood",
   "metadata": {},
   "outputs": [
    {
     "data": {
      "text/plain": [
       "True"
      ]
     },
     "execution_count": 9,
     "metadata": {},
     "output_type": "execute_result"
    }
   ],
   "source": [
    "# test\n",
    "df.shape[0] == df_sales.shape[0]"
   ]
  },
  {
   "cell_type": "code",
   "execution_count": 10,
   "id": "configured-batman",
   "metadata": {},
   "outputs": [
    {
     "data": {
      "text/html": [
       "<div>\n",
       "<style scoped>\n",
       "    .dataframe tbody tr th:only-of-type {\n",
       "        vertical-align: middle;\n",
       "    }\n",
       "\n",
       "    .dataframe tbody tr th {\n",
       "        vertical-align: top;\n",
       "    }\n",
       "\n",
       "    .dataframe thead th {\n",
       "        text-align: right;\n",
       "    }\n",
       "</style>\n",
       "<table border=\"1\" class=\"dataframe\">\n",
       "  <thead>\n",
       "    <tr style=\"text-align: right;\">\n",
       "      <th></th>\n",
       "      <th>id</th>\n",
       "      <th>weekly_sales</th>\n",
       "      <th>store</th>\n",
       "      <th>dept</th>\n",
       "      <th>date</th>\n",
       "      <th>is_holiday_x</th>\n",
       "      <th>is_train</th>\n",
       "      <th>temperature</th>\n",
       "      <th>fuel_price</th>\n",
       "      <th>mark_down1</th>\n",
       "      <th>mark_down2</th>\n",
       "      <th>mark_down3</th>\n",
       "      <th>mark_down4</th>\n",
       "      <th>mark_down5</th>\n",
       "      <th>cpi</th>\n",
       "      <th>unemployment</th>\n",
       "      <th>is_holiday_y</th>\n",
       "      <th>store_type</th>\n",
       "      <th>store_size</th>\n",
       "    </tr>\n",
       "  </thead>\n",
       "  <tbody>\n",
       "    <tr>\n",
       "      <th>167158</th>\n",
       "      <td>247270</td>\n",
       "      <td>25201.550781</td>\n",
       "      <td>32</td>\n",
       "      <td>10</td>\n",
       "      <td>14/10/2011</td>\n",
       "      <td>False</td>\n",
       "      <td>True</td>\n",
       "      <td>10.085938</td>\n",
       "      <td>3.490234</td>\n",
       "      <td>NaN</td>\n",
       "      <td>NaN</td>\n",
       "      <td>NaN</td>\n",
       "      <td>NaN</td>\n",
       "      <td>NaN</td>\n",
       "      <td>195.00</td>\n",
       "      <td>8.515625</td>\n",
       "      <td>False</td>\n",
       "      <td>A</td>\n",
       "      <td>203007</td>\n",
       "    </tr>\n",
       "    <tr>\n",
       "      <th>291629</th>\n",
       "      <td>20094</td>\n",
       "      <td>NaN</td>\n",
       "      <td>17</td>\n",
       "      <td>56</td>\n",
       "      <td>09/03/2012</td>\n",
       "      <td>False</td>\n",
       "      <td>False</td>\n",
       "      <td>NaN</td>\n",
       "      <td>NaN</td>\n",
       "      <td>NaN</td>\n",
       "      <td>NaN</td>\n",
       "      <td>NaN</td>\n",
       "      <td>NaN</td>\n",
       "      <td>NaN</td>\n",
       "      <td>NaN</td>\n",
       "      <td>NaN</td>\n",
       "      <td>False</td>\n",
       "      <td>B</td>\n",
       "      <td>93188</td>\n",
       "    </tr>\n",
       "    <tr>\n",
       "      <th>115021</th>\n",
       "      <td>170472</td>\n",
       "      <td>2050.870117</td>\n",
       "      <td>40</td>\n",
       "      <td>44</td>\n",
       "      <td>29/07/2011</td>\n",
       "      <td>False</td>\n",
       "      <td>True</td>\n",
       "      <td>19.687500</td>\n",
       "      <td>3.898438</td>\n",
       "      <td>NaN</td>\n",
       "      <td>NaN</td>\n",
       "      <td>NaN</td>\n",
       "      <td>NaN</td>\n",
       "      <td>NaN</td>\n",
       "      <td>136.00</td>\n",
       "      <td>4.585938</td>\n",
       "      <td>False</td>\n",
       "      <td>A</td>\n",
       "      <td>155083</td>\n",
       "    </tr>\n",
       "    <tr>\n",
       "      <th>308267</th>\n",
       "      <td>71335</td>\n",
       "      <td>NaN</td>\n",
       "      <td>39</td>\n",
       "      <td>71</td>\n",
       "      <td>24/08/2012</td>\n",
       "      <td>False</td>\n",
       "      <td>False</td>\n",
       "      <td>NaN</td>\n",
       "      <td>NaN</td>\n",
       "      <td>NaN</td>\n",
       "      <td>NaN</td>\n",
       "      <td>NaN</td>\n",
       "      <td>NaN</td>\n",
       "      <td>NaN</td>\n",
       "      <td>NaN</td>\n",
       "      <td>NaN</td>\n",
       "      <td>False</td>\n",
       "      <td>A</td>\n",
       "      <td>184109</td>\n",
       "    </tr>\n",
       "    <tr>\n",
       "      <th>226802</th>\n",
       "      <td>335415</td>\n",
       "      <td>32545.599609</td>\n",
       "      <td>2</td>\n",
       "      <td>7</td>\n",
       "      <td>09/04/2010</td>\n",
       "      <td>False</td>\n",
       "      <td>True</td>\n",
       "      <td>18.562500</td>\n",
       "      <td>2.769531</td>\n",
       "      <td>NaN</td>\n",
       "      <td>NaN</td>\n",
       "      <td>NaN</td>\n",
       "      <td>NaN</td>\n",
       "      <td>NaN</td>\n",
       "      <td>210.25</td>\n",
       "      <td>8.203125</td>\n",
       "      <td>False</td>\n",
       "      <td>A</td>\n",
       "      <td>202307</td>\n",
       "    </tr>\n",
       "  </tbody>\n",
       "</table>\n",
       "</div>"
      ],
      "text/plain": [
       "            id  weekly_sales  store  dept        date  is_holiday_x  is_train  \\\n",
       "167158  247270  25201.550781     32    10  14/10/2011         False      True   \n",
       "291629   20094           NaN     17    56  09/03/2012         False     False   \n",
       "115021  170472   2050.870117     40    44  29/07/2011         False      True   \n",
       "308267   71335           NaN     39    71  24/08/2012         False     False   \n",
       "226802  335415  32545.599609      2     7  09/04/2010         False      True   \n",
       "\n",
       "        temperature  fuel_price  mark_down1  mark_down2  mark_down3  \\\n",
       "167158    10.085938    3.490234         NaN         NaN         NaN   \n",
       "291629          NaN         NaN         NaN         NaN         NaN   \n",
       "115021    19.687500    3.898438         NaN         NaN         NaN   \n",
       "308267          NaN         NaN         NaN         NaN         NaN   \n",
       "226802    18.562500    2.769531         NaN         NaN         NaN   \n",
       "\n",
       "        mark_down4  mark_down5     cpi  unemployment  is_holiday_y store_type  \\\n",
       "167158         NaN         NaN  195.00      8.515625         False          A   \n",
       "291629         NaN         NaN     NaN           NaN         False          B   \n",
       "115021         NaN         NaN  136.00      4.585938         False          A   \n",
       "308267         NaN         NaN     NaN           NaN         False          A   \n",
       "226802         NaN         NaN  210.25      8.203125         False          A   \n",
       "\n",
       "        store_size  \n",
       "167158      203007  \n",
       "291629       93188  \n",
       "115021      155083  \n",
       "308267      184109  \n",
       "226802      202307  "
      ]
     },
     "execution_count": 10,
     "metadata": {},
     "output_type": "execute_result"
    }
   ],
   "source": [
    "df.sample(5)"
   ]
  },
  {
   "cell_type": "markdown",
   "id": "integrated-footwear",
   "metadata": {},
   "source": [
    "Pozostaje jedynie zweryfikować kolumnę `is_holiday`."
   ]
  },
  {
   "cell_type": "code",
   "execution_count": 11,
   "id": "assumed-training",
   "metadata": {},
   "outputs": [
    {
     "data": {
      "text/html": [
       "<div>\n",
       "<style scoped>\n",
       "    .dataframe tbody tr th:only-of-type {\n",
       "        vertical-align: middle;\n",
       "    }\n",
       "\n",
       "    .dataframe tbody tr th {\n",
       "        vertical-align: top;\n",
       "    }\n",
       "\n",
       "    .dataframe thead th {\n",
       "        text-align: right;\n",
       "    }\n",
       "</style>\n",
       "<table border=\"1\" class=\"dataframe\">\n",
       "  <thead>\n",
       "    <tr style=\"text-align: right;\">\n",
       "      <th></th>\n",
       "      <th>is_holiday_x</th>\n",
       "      <th>is_holiday_y</th>\n",
       "    </tr>\n",
       "  </thead>\n",
       "  <tbody>\n",
       "    <tr>\n",
       "      <th>0</th>\n",
       "      <td>False</td>\n",
       "      <td>False</td>\n",
       "    </tr>\n",
       "    <tr>\n",
       "      <th>4</th>\n",
       "      <td>True</td>\n",
       "      <td>True</td>\n",
       "    </tr>\n",
       "  </tbody>\n",
       "</table>\n",
       "</div>"
      ],
      "text/plain": [
       "   is_holiday_x  is_holiday_y\n",
       "0         False         False\n",
       "4          True          True"
      ]
     },
     "execution_count": 11,
     "metadata": {},
     "output_type": "execute_result"
    }
   ],
   "source": [
    "# wartości spójne\n",
    "df[['is_holiday_x', 'is_holiday_y']].drop_duplicates()"
   ]
  },
  {
   "cell_type": "code",
   "execution_count": 12,
   "id": "central-arctic",
   "metadata": {},
   "outputs": [],
   "source": [
    "df['is_holiday'] = df['is_holiday_x']\n",
    "df = df.drop(columns=['is_holiday_x', 'is_holiday_y'])"
   ]
  },
  {
   "cell_type": "markdown",
   "id": "helpful-footage",
   "metadata": {},
   "source": [
    "## 🎯 Zmienna docelowa\n",
    "\n",
    "`weekly_sales` -> `weekly_sales_log1p`\n"
   ]
  },
  {
   "cell_type": "code",
   "execution_count": 13,
   "id": "auburn-format",
   "metadata": {},
   "outputs": [
    {
     "data": {
      "image/png": "[encoded data removed]",
      "text/plain": [
       "<Figure size 1080x360 with 1 Axes>"
      ]
     },
     "metadata": {
      "needs_background": "light"
     },
     "output_type": "display_data"
    }
   ],
   "source": [
    "df[df.is_train][\"weekly_sales\"].hist(bins=100);"
   ]
  },
  {
   "cell_type": "markdown",
   "id": "proved-password",
   "metadata": {},
   "source": [
    "Zazwyczaj ceny, a w szczególności sumy kwot mają rozkłady mocno skośne. Decyduję się na zlogarytmowanie zmiennej docelowej aby uzyskać rozkład bardziej symetryczny. Jedyne co muszę sprawdzić to jaką część zbioru mają wartości mniejsze od 1 (a szczególnie ujemne, bo ich nie możemy logarytmować)."
   ]
  },
  {
   "cell_type": "code",
   "execution_count": 14,
   "id": "psychological-huntington",
   "metadata": {},
   "outputs": [
    {
     "data": {
      "text/plain": [
       "min          -4988.939941\n",
       "max         693099.375000\n",
       "<lambda>         0.002925\n",
       "<lambda>    -60979.779899\n",
       "<lambda>         0.004286\n",
       "<lambda>    -60834.999898\n",
       "<lambda>         0.000013\n",
       "Name: weekly_sales, dtype: float64"
      ]
     },
     "execution_count": 14,
     "metadata": {},
     "output_type": "execute_result"
    }
   ],
   "source": [
    "# min, max, procent ujemnych, procent mniejszych od 1, suma mniejszych od 1\n",
    "df[\"weekly_sales\"][~df[\"weekly_sales\"].isna()].\\\n",
    "agg([min, max, \n",
    "     lambda x: len([y for y in x if y < 0])/len(x),\n",
    "     lambda x: sum([y for y in x if y < 0]),\n",
    "     lambda x: len([y for y in x if y < 1])/len(x),\n",
    "     lambda x: sum([y for y in x if y < 1]),\n",
    "     lambda x: abs(sum([y for y in x if y < 0]))/sum([y for y in x if y > 0]),])"
   ]
  },
  {
   "cell_type": "markdown",
   "id": "certified-conversation",
   "metadata": {},
   "source": [
    "Rekordy z wartościami mniejszymi od 1 to zaledwie 0.4% całego zbioru uczącego. Stanowi to prawie zerowy udział w całej kwocie. Tym samym nową zmienną docelową staje się `weekly_sales_log1p` (jako `ln(1+x)`)."
   ]
  },
  {
   "cell_type": "code",
   "execution_count": 15,
   "id": "legal-judges",
   "metadata": {},
   "outputs": [],
   "source": [
    "df['weekly_sales_log1p'] = df[\"weekly_sales\"].map(lambda x: 0 if x < 0 else np.log1p(x))"
   ]
  },
  {
   "cell_type": "code",
   "execution_count": 16,
   "id": "bronze-short",
   "metadata": {},
   "outputs": [
    {
     "data": {
      "image/png": "[encoded data removed]",
      "text/plain": [
       "<Figure size 1080x360 with 1 Axes>"
      ]
     },
     "metadata": {
      "needs_background": "light"
     },
     "output_type": "display_data"
    }
   ],
   "source": [
    "df[df.is_train][\"weekly_sales_log1p\"].hist(bins=100, density=1);"
   ]
  },
  {
   "cell_type": "markdown",
   "id": "younger-worship",
   "metadata": {},
   "source": [
    "## Data analysis\n",
    "\n",
    "Nie mam za bardzo na to czasu. Model pracy jest taki: połączenie danych, oczyszczenie, feature engineering, feature selection, wybranie \"na oko\" najlepszej metody, parameters optimization."
   ]
  },
  {
   "cell_type": "markdown",
   "id": "straight-rally",
   "metadata": {},
   "source": [
    "## Feature engineering"
   ]
  },
  {
   "cell_type": "markdown",
   "id": "premier-special",
   "metadata": {},
   "source": [
    "### date"
   ]
  },
  {
   "cell_type": "code",
   "execution_count": 17,
   "id": "early-mambo",
   "metadata": {},
   "outputs": [],
   "source": [
    "# konwertuję to formatu datetime\n",
    "df['date_dt'] = pd.to_datetime(df['date'], dayfirst=True)"
   ]
  },
  {
   "cell_type": "code",
   "execution_count": 18,
   "id": "hindu-recommendation",
   "metadata": {},
   "outputs": [
    {
     "data": {
      "text/html": [
       "<div>\n",
       "<style scoped>\n",
       "    .dataframe tbody tr th:only-of-type {\n",
       "        vertical-align: middle;\n",
       "    }\n",
       "\n",
       "    .dataframe tbody tr th {\n",
       "        vertical-align: top;\n",
       "    }\n",
       "\n",
       "    .dataframe thead th {\n",
       "        text-align: right;\n",
       "    }\n",
       "</style>\n",
       "<table border=\"1\" class=\"dataframe\">\n",
       "  <thead>\n",
       "    <tr style=\"text-align: right;\">\n",
       "      <th></th>\n",
       "      <th>date</th>\n",
       "      <th>date_dt</th>\n",
       "      <th>date_dt_invalid</th>\n",
       "    </tr>\n",
       "  </thead>\n",
       "  <tbody>\n",
       "    <tr>\n",
       "      <th>0</th>\n",
       "      <td>09/07/2010</td>\n",
       "      <td>2010-07-09</td>\n",
       "      <td>2010-09-07</td>\n",
       "    </tr>\n",
       "    <tr>\n",
       "      <th>2</th>\n",
       "      <td>10/06/2011</td>\n",
       "      <td>2011-06-10</td>\n",
       "      <td>2011-10-06</td>\n",
       "    </tr>\n",
       "    <tr>\n",
       "      <th>4</th>\n",
       "      <td>10/09/2010</td>\n",
       "      <td>2010-09-10</td>\n",
       "      <td>2010-10-09</td>\n",
       "    </tr>\n",
       "    <tr>\n",
       "      <th>10</th>\n",
       "      <td>05/11/2010</td>\n",
       "      <td>2010-11-05</td>\n",
       "      <td>2010-05-11</td>\n",
       "    </tr>\n",
       "    <tr>\n",
       "      <th>11</th>\n",
       "      <td>02/12/2011</td>\n",
       "      <td>2011-12-02</td>\n",
       "      <td>2011-02-12</td>\n",
       "    </tr>\n",
       "    <tr>\n",
       "      <th>...</th>\n",
       "      <td>...</td>\n",
       "      <td>...</td>\n",
       "      <td>...</td>\n",
       "    </tr>\n",
       "    <tr>\n",
       "      <th>421550</th>\n",
       "      <td>05/10/2012</td>\n",
       "      <td>2012-10-05</td>\n",
       "      <td>2012-05-10</td>\n",
       "    </tr>\n",
       "    <tr>\n",
       "      <th>421556</th>\n",
       "      <td>03/02/2012</td>\n",
       "      <td>2012-02-03</td>\n",
       "      <td>2012-03-02</td>\n",
       "    </tr>\n",
       "    <tr>\n",
       "      <th>421557</th>\n",
       "      <td>04/05/2012</td>\n",
       "      <td>2012-05-04</td>\n",
       "      <td>2012-04-05</td>\n",
       "    </tr>\n",
       "    <tr>\n",
       "      <th>421561</th>\n",
       "      <td>01/06/2012</td>\n",
       "      <td>2012-06-01</td>\n",
       "      <td>2012-01-06</td>\n",
       "    </tr>\n",
       "    <tr>\n",
       "      <th>421564</th>\n",
       "      <td>04/05/2012</td>\n",
       "      <td>2012-05-04</td>\n",
       "      <td>2012-04-05</td>\n",
       "    </tr>\n",
       "  </tbody>\n",
       "</table>\n",
       "<p>162233 rows × 3 columns</p>\n",
       "</div>"
      ],
      "text/plain": [
       "              date    date_dt date_dt_invalid\n",
       "0       09/07/2010 2010-07-09      2010-09-07\n",
       "2       10/06/2011 2011-06-10      2011-10-06\n",
       "4       10/09/2010 2010-09-10      2010-10-09\n",
       "10      05/11/2010 2010-11-05      2010-05-11\n",
       "11      02/12/2011 2011-12-02      2011-02-12\n",
       "...            ...        ...             ...\n",
       "421550  05/10/2012 2012-10-05      2012-05-10\n",
       "421556  03/02/2012 2012-02-03      2012-03-02\n",
       "421557  04/05/2012 2012-05-04      2012-04-05\n",
       "421561  01/06/2012 2012-06-01      2012-01-06\n",
       "421564  04/05/2012 2012-05-04      2012-04-05\n",
       "\n",
       "[162233 rows x 3 columns]"
      ]
     },
     "execution_count": 18,
     "metadata": {},
     "output_type": "execute_result"
    }
   ],
   "source": [
    "# Uwaga na daty!\n",
    "df['date_dt_invalid'] = pd.to_datetime(df['date'])\n",
    "df[['date', 'date_dt', 'date_dt_invalid']][df['date_dt'] != df['date_dt_invalid']]"
   ]
  },
  {
   "cell_type": "code",
   "execution_count": 19,
   "id": "incredible-display",
   "metadata": {},
   "outputs": [
    {
     "data": {
      "text/html": [
       "<div>\n",
       "<style scoped>\n",
       "    .dataframe tbody tr th:only-of-type {\n",
       "        vertical-align: middle;\n",
       "    }\n",
       "\n",
       "    .dataframe tbody tr th {\n",
       "        vertical-align: top;\n",
       "    }\n",
       "\n",
       "    .dataframe thead th {\n",
       "        text-align: right;\n",
       "    }\n",
       "</style>\n",
       "<table border=\"1\" class=\"dataframe\">\n",
       "  <thead>\n",
       "    <tr style=\"text-align: right;\">\n",
       "      <th></th>\n",
       "      <th>is_train</th>\n",
       "      <th>min</th>\n",
       "      <th>max</th>\n",
       "    </tr>\n",
       "  </thead>\n",
       "  <tbody>\n",
       "    <tr>\n",
       "      <th>0</th>\n",
       "      <td>False</td>\n",
       "      <td>2011-12-16</td>\n",
       "      <td>2012-10-26</td>\n",
       "    </tr>\n",
       "    <tr>\n",
       "      <th>1</th>\n",
       "      <td>True</td>\n",
       "      <td>2010-02-05</td>\n",
       "      <td>2011-12-09</td>\n",
       "    </tr>\n",
       "  </tbody>\n",
       "</table>\n",
       "</div>"
      ],
      "text/plain": [
       "   is_train        min        max\n",
       "0     False 2011-12-16 2012-10-26\n",
       "1      True 2010-02-05 2011-12-09"
      ]
     },
     "execution_count": 19,
     "metadata": {},
     "output_type": "execute_result"
    }
   ],
   "source": [
    "# sprawdzam, czy dane treningowe nie nachodzą na dane testowe\n",
    "df.groupby('is_train').date_dt.agg([min, max]).reset_index()"
   ]
  },
  {
   "cell_type": "code",
   "execution_count": 20,
   "id": "sized-slave",
   "metadata": {},
   "outputs": [],
   "source": [
    "# wyciągam rok, miesiąc i tydzień\n",
    "df['year'] = df['date_dt'].dt.year\n",
    "df['month'] = df['date_dt'].dt.month\n",
    "df['week'] = df['date_dt'].dt.week"
   ]
  },
  {
   "cell_type": "code",
   "execution_count": 21,
   "id": "alternate-courage",
   "metadata": {},
   "outputs": [],
   "source": [
    "# na potrzeby analizy danych historycznych dodaję zmienną year_prev\n",
    "df['year_prev'] = df['year'] - 1"
   ]
  },
  {
   "cell_type": "markdown",
   "id": "capable-congress",
   "metadata": {},
   "source": [
    "### is_holiday\n",
    "\n",
    "Sprawdzam wpływ zmiennej na wartości tygodniowe."
   ]
  },
  {
   "cell_type": "code",
   "execution_count": 22,
   "id": "comprehensive-statistics",
   "metadata": {},
   "outputs": [
    {
     "data": {
      "image/png": "[encoded data removed]",
      "text/plain": [
       "<Figure size 1224x288 with 1 Axes>"
      ]
     },
     "metadata": {
      "needs_background": "light"
     },
     "output_type": "display_data"
    }
   ],
   "source": [
    "df[df.is_train].groupby('date_dt').weekly_sales.median().plot(figsize=(17,4));"
   ]
  },
  {
   "cell_type": "code",
   "execution_count": 23,
   "id": "vocal-navigation",
   "metadata": {},
   "outputs": [
    {
     "data": {
      "image/png": "[encoded data removed]",
      "text/plain": [
       "<Figure size 1224x288 with 1 Axes>"
      ]
     },
     "metadata": {
      "needs_background": "light"
     },
     "output_type": "display_data"
    }
   ],
   "source": [
    "df[df.is_train & ~df.is_holiday].groupby('date_dt').weekly_sales.median().plot(figsize=(17,4));"
   ]
  },
  {
   "cell_type": "markdown",
   "id": "taken-marriage",
   "metadata": {},
   "source": [
    "Coś jest nie tak w moim rozumieniu tej zmiennej - pominęliśmy okres bożonarodzeniowy? Nie znając dokładnych założeń zmiennej staram się to naprawić po swojemu."
   ]
  },
  {
   "cell_type": "code",
   "execution_count": 24,
   "id": "republican-hunter",
   "metadata": {},
   "outputs": [],
   "source": [
    "# w oparciu o poprzednie, holiday rozumiemy jako \"czas zwiększonego zapotrzebowania na zakupy\"\n",
    "# także w tym rozumieniu pierwszy tydzień roku nie jest świętem (bo jemy zapasy, i zaciskamy pasa po świętach)\n",
    "# ostatnie dwa tygodnie roku natomiast jak najbardziej są\n",
    "df['is_holiday_fixed'] = df['is_holiday']\n",
    "df.loc[df['date'].isin(['31/12/2010', '30/12/2011']), 'is_holiday_fixed'] = False\n",
    "df.loc[df['date'].isin(['17/12/2010', '24/12/2010', '16/12/2011', '23/12/2011']), 'is_holiday_fixed'] = True"
   ]
  },
  {
   "cell_type": "code",
   "execution_count": 25,
   "id": "little-ordinary",
   "metadata": {},
   "outputs": [
    {
     "data": {
      "text/plain": [
       "{Timestamp('2010-02-12 00:00:00'),\n",
       " Timestamp('2010-09-10 00:00:00'),\n",
       " Timestamp('2010-11-26 00:00:00'),\n",
       " Timestamp('2010-12-17 00:00:00'),\n",
       " Timestamp('2010-12-24 00:00:00'),\n",
       " Timestamp('2011-02-11 00:00:00'),\n",
       " Timestamp('2011-09-09 00:00:00'),\n",
       " Timestamp('2011-11-25 00:00:00'),\n",
       " Timestamp('2011-12-16 00:00:00'),\n",
       " Timestamp('2011-12-23 00:00:00'),\n",
       " Timestamp('2012-02-10 00:00:00'),\n",
       " Timestamp('2012-09-07 00:00:00')}"
      ]
     },
     "execution_count": 25,
     "metadata": {},
     "output_type": "execute_result"
    }
   ],
   "source": [
    "# jakie to dni?\n",
    "set(df[df.is_holiday_fixed]['date']).intersection(set(df[~df.is_holiday_fixed]['date']))\n",
    "set(df[df.is_holiday_fixed].sort_values('date_dt')['date_dt'])"
   ]
  },
  {
   "cell_type": "code",
   "execution_count": 26,
   "id": "virtual-station",
   "metadata": {},
   "outputs": [],
   "source": [
    "# wygląda na to, że są 4 okresy - dodaję nową zmienną\n",
    "# ~ 10 luty\n",
    "# ~ 10 wrzesień\n",
    "# ~ 25 listopad (black friday)\n",
    "# ~ 16 + 24 grudzień\n",
    "df['holiday_fixed_cat'] = df.apply(lambda x: 0 if x['is_holiday_fixed'] is False else x['month'], axis=1)\n",
    "df['holiday_fixed_cat'] = df['holiday_fixed_cat'].map({0:0, 2: 1, 9: 2, 11: 3, 12: 4})"
   ]
  },
  {
   "cell_type": "code",
   "execution_count": 27,
   "id": "english-retailer",
   "metadata": {},
   "outputs": [
    {
     "data": {
      "image/png": "[encoded data removed]",
      "text/plain": [
       "<Figure size 1224x288 with 1 Axes>"
      ]
     },
     "metadata": {
      "needs_background": "light"
     },
     "output_type": "display_data"
    }
   ],
   "source": [
    "# teraz to wygląda dużo lepiej\n",
    "df[df.is_train & ~df.is_holiday_fixed].groupby('date_dt').weekly_sales.median().plot(figsize=(17,4));"
   ]
  },
  {
   "cell_type": "code",
   "execution_count": 28,
   "id": "musical-success",
   "metadata": {},
   "outputs": [
    {
     "data": {
      "text/html": [
       "<div>\n",
       "<style scoped>\n",
       "    .dataframe tbody tr th:only-of-type {\n",
       "        vertical-align: middle;\n",
       "    }\n",
       "\n",
       "    .dataframe tbody tr th {\n",
       "        vertical-align: top;\n",
       "    }\n",
       "\n",
       "    .dataframe thead th {\n",
       "        text-align: right;\n",
       "    }\n",
       "</style>\n",
       "<table border=\"1\" class=\"dataframe\">\n",
       "  <thead>\n",
       "    <tr style=\"text-align: right;\">\n",
       "      <th></th>\n",
       "      <th>min</th>\n",
       "      <th>max</th>\n",
       "      <th>median</th>\n",
       "      <th>mean</th>\n",
       "      <th>&lt;lambda_0&gt;</th>\n",
       "    </tr>\n",
       "    <tr>\n",
       "      <th>holiday_fixed_cat</th>\n",
       "      <th></th>\n",
       "      <th></th>\n",
       "      <th></th>\n",
       "      <th></th>\n",
       "      <th></th>\n",
       "    </tr>\n",
       "  </thead>\n",
       "  <tbody>\n",
       "    <tr>\n",
       "      <th>0</th>\n",
       "      <td>-4988.939941</td>\n",
       "      <td>293966.062500</td>\n",
       "      <td>7573.879883</td>\n",
       "      <td>15647.725586</td>\n",
       "      <td>4090.722412</td>\n",
       "    </tr>\n",
       "    <tr>\n",
       "      <th>1</th>\n",
       "      <td>-500.000000</td>\n",
       "      <td>222651.015625</td>\n",
       "      <td>8111.915039</td>\n",
       "      <td>16232.248047</td>\n",
       "      <td>95.672867</td>\n",
       "    </tr>\n",
       "    <tr>\n",
       "      <th>2</th>\n",
       "      <td>-598.000000</td>\n",
       "      <td>214448.953125</td>\n",
       "      <td>7437.779785</td>\n",
       "      <td>15673.897461</td>\n",
       "      <td>92.397629</td>\n",
       "    </tr>\n",
       "    <tr>\n",
       "      <th>3</th>\n",
       "      <td>-169.979996</td>\n",
       "      <td>693099.375000</td>\n",
       "      <td>10007.379883</td>\n",
       "      <td>22220.945312</td>\n",
       "      <td>132.414612</td>\n",
       "    </tr>\n",
       "    <tr>\n",
       "      <th>4</th>\n",
       "      <td>-372.899994</td>\n",
       "      <td>406988.625000</td>\n",
       "      <td>11986.839844</td>\n",
       "      <td>24133.933594</td>\n",
       "      <td>142.752213</td>\n",
       "    </tr>\n",
       "  </tbody>\n",
       "</table>\n",
       "</div>"
      ],
      "text/plain": [
       "                           min            max        median          mean  \\\n",
       "holiday_fixed_cat                                                           \n",
       "0                 -4988.939941  293966.062500   7573.879883  15647.725586   \n",
       "1                  -500.000000  222651.015625   8111.915039  16232.248047   \n",
       "2                  -598.000000  214448.953125   7437.779785  15673.897461   \n",
       "3                  -169.979996  693099.375000  10007.379883  22220.945312   \n",
       "4                  -372.899994  406988.625000  11986.839844  24133.933594   \n",
       "\n",
       "                    <lambda_0>  \n",
       "holiday_fixed_cat               \n",
       "0                  4090.722412  \n",
       "1                    95.672867  \n",
       "2                    92.397629  \n",
       "3                   132.414612  \n",
       "4                   142.752213  "
      ]
     },
     "execution_count": 28,
     "metadata": {},
     "output_type": "execute_result"
    }
   ],
   "source": [
    "# widać wyróżniające się tygodnie pod koniec roku\n",
    "# min, max, mediana, średnia, suma w mln\n",
    "df[df.is_train].groupby('holiday_fixed_cat').weekly_sales.agg([min, max, np.median, np.mean, lambda x: sum(x)/1000000])"
   ]
  },
  {
   "cell_type": "code",
   "execution_count": 29,
   "id": "dress-general",
   "metadata": {},
   "outputs": [],
   "source": [
    "# nie zapominam o wyjątkowym początku roku (można byłoby to też dodać do holiday_fixed_cat)\n",
    "df['is_new_year'] = False\n",
    "df.loc[df['date'].isin(['31/12/2010', '30/12/2011']), 'is_new_year'] = True"
   ]
  },
  {
   "cell_type": "code",
   "execution_count": 30,
   "id": "entertaining-vocabulary",
   "metadata": {},
   "outputs": [],
   "source": [
    "# a może to coś da?\n",
    "df['is_december'] = False\n",
    "df.loc[df['holiday_fixed_cat'].isin([3, 4]), 'is_december'] = True"
   ]
  },
  {
   "cell_type": "code",
   "execution_count": 31,
   "id": "confidential-tender",
   "metadata": {},
   "outputs": [
    {
     "data": {
      "text/html": [
       "<div>\n",
       "<style scoped>\n",
       "    .dataframe tbody tr th:only-of-type {\n",
       "        vertical-align: middle;\n",
       "    }\n",
       "\n",
       "    .dataframe tbody tr th {\n",
       "        vertical-align: top;\n",
       "    }\n",
       "\n",
       "    .dataframe thead th {\n",
       "        text-align: right;\n",
       "    }\n",
       "</style>\n",
       "<table border=\"1\" class=\"dataframe\">\n",
       "  <thead>\n",
       "    <tr style=\"text-align: right;\">\n",
       "      <th></th>\n",
       "      <th>min</th>\n",
       "      <th>max</th>\n",
       "      <th>median</th>\n",
       "      <th>mean</th>\n",
       "      <th>&lt;lambda_0&gt;</th>\n",
       "    </tr>\n",
       "    <tr>\n",
       "      <th>is_new_year</th>\n",
       "      <th></th>\n",
       "      <th></th>\n",
       "      <th></th>\n",
       "      <th></th>\n",
       "      <th></th>\n",
       "    </tr>\n",
       "  </thead>\n",
       "  <tbody>\n",
       "    <tr>\n",
       "      <th>False</th>\n",
       "      <td>-4988.939941</td>\n",
       "      <td>293966.06250</td>\n",
       "      <td>7583.310059</td>\n",
       "      <td>15669.462891</td>\n",
       "      <td>4050.289795</td>\n",
       "    </tr>\n",
       "    <tr>\n",
       "      <th>True</th>\n",
       "      <td>-698.000000</td>\n",
       "      <td>147532.15625</td>\n",
       "      <td>6462.160156</td>\n",
       "      <td>13738.538086</td>\n",
       "      <td>40.432518</td>\n",
       "    </tr>\n",
       "  </tbody>\n",
       "</table>\n",
       "</div>"
      ],
      "text/plain": [
       "                     min           max       median          mean   <lambda_0>\n",
       "is_new_year                                                                   \n",
       "False       -4988.939941  293966.06250  7583.310059  15669.462891  4050.289795\n",
       "True         -698.000000  147532.15625  6462.160156  13738.538086    40.432518"
      ]
     },
     "execution_count": 31,
     "metadata": {},
     "output_type": "execute_result"
    }
   ],
   "source": [
    "# zgodnie z przypuszczeniami, sprzedaż jest znacznie niższa\n",
    "# min, max, mediana, średnia, suma w mln\n",
    "df[df.is_train & ~df.is_holiday_fixed].groupby('is_new_year').weekly_sales.agg([min, max, np.median, np.mean, lambda x: sum(x)/1000000])"
   ]
  },
  {
   "cell_type": "code",
   "execution_count": 32,
   "id": "ordinary-thailand",
   "metadata": {},
   "outputs": [],
   "source": [
    "# jeszcze is_black_friday\n",
    "df['is_black_friday'] = False\n",
    "df.loc[df['holiday_fixed_cat'].isin([2]), 'is_black_friday'] = True"
   ]
  },
  {
   "cell_type": "markdown",
   "id": "welsh-tamil",
   "metadata": {},
   "source": [
    "### store + dept\n",
    "\n",
    "Staram się znaleźć coś ciekawego o sklepach i oddziałach."
   ]
  },
  {
   "cell_type": "code",
   "execution_count": 33,
   "id": "saved-gather",
   "metadata": {},
   "outputs": [],
   "source": [
    "# dodaję oddział id\n",
    "df['store_dept'] = df['store'].map(lambda x: x*100) + df['dept']"
   ]
  },
  {
   "cell_type": "code",
   "execution_count": 34,
   "id": "vital-purchase",
   "metadata": {},
   "outputs": [
    {
     "data": {
      "text/html": [
       "<div>\n",
       "<style scoped>\n",
       "    .dataframe tbody tr th:only-of-type {\n",
       "        vertical-align: middle;\n",
       "    }\n",
       "\n",
       "    .dataframe tbody tr th {\n",
       "        vertical-align: top;\n",
       "    }\n",
       "\n",
       "    .dataframe thead th {\n",
       "        text-align: right;\n",
       "    }\n",
       "</style>\n",
       "<table border=\"1\" class=\"dataframe\">\n",
       "  <thead>\n",
       "    <tr style=\"text-align: right;\">\n",
       "      <th></th>\n",
       "      <th>store_dept</th>\n",
       "      <th>date</th>\n",
       "      <th>id</th>\n",
       "    </tr>\n",
       "  </thead>\n",
       "  <tbody>\n",
       "    <tr>\n",
       "      <th>421569</th>\n",
       "      <td>4598</td>\n",
       "      <td>31/12/2010</td>\n",
       "      <td>1</td>\n",
       "    </tr>\n",
       "  </tbody>\n",
       "</table>\n",
       "</div>"
      ],
      "text/plain": [
       "        store_dept        date  id\n",
       "421569        4598  31/12/2010   1"
      ]
     },
     "execution_count": 34,
     "metadata": {},
     "output_type": "execute_result"
    }
   ],
   "source": [
    "# walidacyjnie\n",
    "# czy jeden oddział ma dwa rekordy na tydzień? NIE\n",
    "df.groupby(['store_dept', 'date']).id.count().reset_index().sort_values('id').tail(1)"
   ]
  },
  {
   "cell_type": "code",
   "execution_count": 35,
   "id": "public-actor",
   "metadata": {},
   "outputs": [
    {
     "data": {
      "text/plain": [
       "0    215478\n",
       "1    163495\n",
       "2     42597\n",
       "Name: store_type_cat, dtype: int64"
      ]
     },
     "execution_count": 35,
     "metadata": {},
     "output_type": "execute_result"
    }
   ],
   "source": [
    "# store_type na int\n",
    "df['store_type_cat'] = df['store_type'].map({'A': 0, 'B': 1, 'C': 2}).fillna(-1)\n",
    "df['store_type_cat'].value_counts()"
   ]
  },
  {
   "cell_type": "code",
   "execution_count": 36,
   "id": "occupational-redhead",
   "metadata": {},
   "outputs": [
    {
     "data": {
      "image/png": "[encoded data removed]",
      "text/plain": [
       "<Figure size 1080x360 with 1 Axes>"
      ]
     },
     "metadata": {
      "needs_background": "light"
     },
     "output_type": "display_data"
    }
   ],
   "source": [
    "# store size_cat\n",
    "df['store_size'].hist();"
   ]
  },
  {
   "cell_type": "code",
   "execution_count": 37,
   "id": "fifteen-bangladesh",
   "metadata": {},
   "outputs": [],
   "source": [
    "df['store_size_cat'] = df['store_size'].map(lambda x: 0 if x < 75000 else 2 if x > 175000 else 1)"
   ]
  },
  {
   "cell_type": "code",
   "execution_count": 38,
   "id": "breeding-copper",
   "metadata": {},
   "outputs": [
    {
     "data": {
      "text/plain": [
       "(45, 81, 3331)"
      ]
     },
     "execution_count": 38,
     "metadata": {},
     "output_type": "execute_result"
    }
   ],
   "source": [
    "# ile sklepów, numerów oddziałów oraz różnych oddziałów?\n",
    "df['store'].unique().shape[0], df['dept'].unique().shape[0], df['store_dept'].unique().shape[0]"
   ]
  },
  {
   "cell_type": "code",
   "execution_count": 39,
   "id": "distinct-guitar",
   "metadata": {},
   "outputs": [
    {
     "data": {
      "text/html": [
       "<div>\n",
       "<style scoped>\n",
       "    .dataframe tbody tr th:only-of-type {\n",
       "        vertical-align: middle;\n",
       "    }\n",
       "\n",
       "    .dataframe tbody tr th {\n",
       "        vertical-align: top;\n",
       "    }\n",
       "\n",
       "    .dataframe thead th {\n",
       "        text-align: right;\n",
       "    }\n",
       "</style>\n",
       "<table border=\"1\" class=\"dataframe\">\n",
       "  <thead>\n",
       "    <tr style=\"text-align: right;\">\n",
       "      <th></th>\n",
       "      <th>store</th>\n",
       "    </tr>\n",
       "    <tr>\n",
       "      <th>year</th>\n",
       "      <th></th>\n",
       "    </tr>\n",
       "  </thead>\n",
       "  <tbody>\n",
       "    <tr>\n",
       "      <th>2010</th>\n",
       "      <td>45</td>\n",
       "    </tr>\n",
       "    <tr>\n",
       "      <th>2011</th>\n",
       "      <td>45</td>\n",
       "    </tr>\n",
       "    <tr>\n",
       "      <th>2012</th>\n",
       "      <td>45</td>\n",
       "    </tr>\n",
       "  </tbody>\n",
       "</table>\n",
       "</div>"
      ],
      "text/plain": [
       "      store\n",
       "year       \n",
       "2010     45\n",
       "2011     45\n",
       "2012     45"
      ]
     },
     "execution_count": 39,
     "metadata": {},
     "output_type": "execute_result"
    }
   ],
   "source": [
    "# liczba sklepów per rok\n",
    "df[['year', 'store']].drop_duplicates().groupby('year').count()"
   ]
  },
  {
   "cell_type": "code",
   "execution_count": 40,
   "id": "overhead-weather",
   "metadata": {},
   "outputs": [
    {
     "data": {
      "text/html": [
       "<div>\n",
       "<style scoped>\n",
       "    .dataframe tbody tr th:only-of-type {\n",
       "        vertical-align: middle;\n",
       "    }\n",
       "\n",
       "    .dataframe tbody tr th {\n",
       "        vertical-align: top;\n",
       "    }\n",
       "\n",
       "    .dataframe thead th {\n",
       "        text-align: right;\n",
       "    }\n",
       "</style>\n",
       "<table border=\"1\" class=\"dataframe\">\n",
       "  <thead>\n",
       "    <tr style=\"text-align: right;\">\n",
       "      <th></th>\n",
       "      <th>store_dept</th>\n",
       "    </tr>\n",
       "    <tr>\n",
       "      <th>year</th>\n",
       "      <th></th>\n",
       "    </tr>\n",
       "  </thead>\n",
       "  <tbody>\n",
       "    <tr>\n",
       "      <th>2010</th>\n",
       "      <td>3197</td>\n",
       "    </tr>\n",
       "    <tr>\n",
       "      <th>2011</th>\n",
       "      <td>3245</td>\n",
       "    </tr>\n",
       "    <tr>\n",
       "      <th>2012</th>\n",
       "      <td>3216</td>\n",
       "    </tr>\n",
       "  </tbody>\n",
       "</table>\n",
       "</div>"
      ],
      "text/plain": [
       "      store_dept\n",
       "year            \n",
       "2010        3197\n",
       "2011        3245\n",
       "2012        3216"
      ]
     },
     "execution_count": 40,
     "metadata": {},
     "output_type": "execute_result"
    }
   ],
   "source": [
    "# liczba oddziałów w danym roku\n",
    "df[['year', 'store_dept']].drop_duplicates().groupby('year').count()"
   ]
  },
  {
   "cell_type": "markdown",
   "id": "confident-spiritual",
   "metadata": {},
   "source": [
    "Być może będzie to można wykorzystać, dlatego tworzę zmienne typu: liczba oddziałów ogółem w danym roku, miesiącu, czy tygodniu."
   ]
  },
  {
   "cell_type": "code",
   "execution_count": 41,
   "id": "exempt-costume",
   "metadata": {},
   "outputs": [],
   "source": [
    "temp1 = df[['year', 'store', 'dept']].drop_duplicates().groupby(['year', 'store']).count().reset_index().rename(columns={'dept': 'dept_yr_cnt'})\n",
    "temp2 = df[['year', 'month', 'store', 'dept']].drop_duplicates().groupby(['year', 'month', 'store']).count().reset_index().rename(columns={'dept': 'dept_mo_cnt'})\n",
    "temp3 = df[['year', 'week', 'store', 'dept']].drop_duplicates().groupby(['year', 'week', 'store']).count().reset_index().rename(columns={'dept': 'dept_wk_cnt'})\n",
    "df = df.merge(temp1, how='left', on=['year', 'store'])\n",
    "df = df.merge(temp2, how='left', on=['year', 'store', 'month'])\n",
    "df = df.merge(temp3, how='left', on=['year', 'store', 'week'])"
   ]
  },
  {
   "cell_type": "markdown",
   "id": "important-local",
   "metadata": {},
   "source": [
    "Jeszcze z uwzględnieniem store_type."
   ]
  },
  {
   "cell_type": "code",
   "execution_count": 42,
   "id": "beautiful-harassment",
   "metadata": {},
   "outputs": [],
   "source": [
    "temp1 = df[['year', 'store_dept', 'store_type']].drop_duplicates().groupby(['year', 'store_type']).count().reset_index().rename(columns={'store_dept': 'dept_store_type_yr_cnt'})\n",
    "temp2 = df[['year', 'month', 'store_dept', 'store_type']].drop_duplicates().groupby(['year', 'month', 'store_type']).count().reset_index().rename(columns={'store_dept': 'dept_store_type_mo_cnt'})\n",
    "temp3 = df[['year', 'week', 'store_dept', 'store_type']].drop_duplicates().groupby(['year', 'week', 'store_type']).count().reset_index().rename(columns={'store_dept': 'dept_store_type_wk_cnt'})\n",
    "df = df.merge(temp1, how='left', on=['year', 'store_type'])\n",
    "df = df.merge(temp2, how='left', on=['year', 'store_type', 'month'])\n",
    "df = df.merge(temp3, how='left', on=['year', 'store_type', 'week'])"
   ]
  },
  {
   "cell_type": "markdown",
   "id": "revolutionary-cross",
   "metadata": {},
   "source": [
    "### dane historyczne"
   ]
  },
  {
   "cell_type": "markdown",
   "id": "supposed-anatomy",
   "metadata": {},
   "source": [
    "Na początek obliczam statystyki wybranych zmiennych na dany okres."
   ]
  },
  {
   "cell_type": "markdown",
   "id": "daily-ancient",
   "metadata": {},
   "source": [
    "#### weekly_sales"
   ]
  },
  {
   "cell_type": "code",
   "execution_count": 43,
   "id": "daily-monitor",
   "metadata": {},
   "outputs": [],
   "source": [
    "def zero_cnt(data):\n",
    "    return len([x for x in data if x <= 0])"
   ]
  },
  {
   "cell_type": "code",
   "execution_count": 44,
   "id": "banned-requirement",
   "metadata": {},
   "outputs": [],
   "source": [
    "# monthly_sales dla store_dept\n",
    "temp_m_sd = df.groupby(['store_dept', 'year', 'month']).weekly_sales.agg([np.nanmin, np.nanmax, np.nansum, np.nanmean, np.nanmedian, np.nanstd, np.size, zero_cnt]).reset_index().\\\n",
    "rename(columns={'nanmin': 'monthly_sales_store_dept_min', \n",
    "                'nanmax': 'monthly_sales_store_dept_max',\n",
    "                'nansum': 'monthly_sales_store_dept_sum',\n",
    "                'nanmean': 'monthly_sales_store_dept_mean',\n",
    "                'nanmedian': 'monthly_sales_store_dept_median',\n",
    "                'nanstd': 'monthly_sales_store_dept_std',\n",
    "                'size': 'monthly_sales_store_dept_size',\n",
    "                'zero_cnt': 'monthly_sales_store_dept_zero_cnt'})\n",
    "\n",
    "# weekly_sales dla store\n",
    "temp_w_s = df.groupby(['store', 'year', 'week']).weekly_sales.agg([np.nanmin, np.nanmax, np.nansum, np.nanmean, np.nanmedian, np.nanstd, np.size, zero_cnt]).reset_index().\\\n",
    "rename(columns={'nanmin': 'weekly_sales_store_min', \n",
    "                'nanmax': 'weekly_sales_store_max',\n",
    "                'nansum': 'weekly_sales_store_sum',\n",
    "                'nanmean': 'weekly_sales_store_mean',\n",
    "                'nanmedian': 'weekly_sales_store_median',\n",
    "                'nanstd': 'weekly_sales_store_std',\n",
    "                'size': 'weekly_sales_store_size',\n",
    "                'zero_cnt': 'weekly_sales_store_zero_cnt'})\n",
    "\n",
    "# monthly_sales dla store\n",
    "temp_m_s = df.groupby(['store', 'year', 'month']).weekly_sales.agg([np.nanmin, np.nanmax, np.nansum, np.nanmean, np.nanmedian, np.nanstd, np.size, zero_cnt]).reset_index().\\\n",
    "rename(columns={'nanmin': 'monthly_sales_store_min', \n",
    "                'nanmax': 'monthly_sales_store_max',\n",
    "                'nansum': 'monthly_sales_store_sum',\n",
    "                'nanmean': 'monthly_sales_store_mean',\n",
    "                'nanmedian': 'monthly_sales_store_median',\n",
    "                'nanstd': 'monthly_sales_store_std',\n",
    "                'size': 'monthly_sales_store_size',\n",
    "                'zero_cnt': 'monthly_sales_store_zero_cnt'})\n",
    "\n",
    "# weekly_sales dla store_type_cat\n",
    "temp_w_st = df.groupby(['store_type_cat', 'year', 'week']).weekly_sales.agg([np.nanmin, np.nanmax, np.nansum, np.nanmean, np.nanmedian, np.nanstd, np.size, zero_cnt]).reset_index().\\\n",
    "rename(columns={'nanmin': 'weekly_sales_store_type_min', \n",
    "                'nanmax': 'weekly_sales_store_type_max',\n",
    "                'nansum': 'weekly_sales_store_type_sum',\n",
    "                'nanmean': 'weekly_sales_store_type_mean',\n",
    "                'nanmedian': 'weekly_sales_store_type_median',\n",
    "                'nanstd': 'weekly_sales_store_type_std',\n",
    "                'size': 'weekly_sales_store_type_size',\n",
    "                'zero_cnt': 'weekly_sales_store_type_zero_cnt'})\n",
    "\n",
    "# monthly_sales dla store_type_cat\n",
    "temp_m_st = df.groupby(['store_type_cat', 'year', 'month']).weekly_sales.agg([np.nanmin, np.nanmax, np.nansum, np.nanmean, np.nanmedian, np.nanstd, np.size, zero_cnt]).reset_index().\\\n",
    "rename(columns={'nanmin': 'monthly_sales_store_type_min', \n",
    "                'nanmax': 'monthly_sales_store_type_max',\n",
    "                'nansum': 'monthly_sales_store_type_sum',\n",
    "                'nanmean': 'monthly_sales_store_type_mean',\n",
    "                'nanmedian': 'monthly_sales_store_type_median',\n",
    "                'nanstd': 'monthly_sales_store_type_std',\n",
    "                'size': 'monthly_sales_store_type_size',\n",
    "                'zero_cnt': 'monthly_sales_store_type_zero_cnt'})\n",
    "\n",
    "# weekly_sales dla store_size_cat\n",
    "temp_w_ss = df.groupby(['store_size_cat', 'year', 'week']).weekly_sales.agg([np.nanmin, np.nanmax, np.nansum, np.nanmean, np.nanmedian, np.nanstd, np.size, zero_cnt]).reset_index().\\\n",
    "rename(columns={'nanmin': 'weekly_sales_store_size_min', \n",
    "                'nanmax': 'weekly_sales_store_size_max',\n",
    "                'nansum': 'weekly_sales_store_size_sum',\n",
    "                'nanmean': 'weekly_sales_store_size_mean',\n",
    "                'nanmedian': 'weekly_sales_store_size_median',\n",
    "                'nanstd': 'weekly_sales_store_size_std',\n",
    "                'size': 'weekly_sales_store_size_size',\n",
    "                'zero_cnt': 'weekly_sales_store_size_zero_cnt'})\n",
    "\n",
    "# monthly_sales dla store_size_cat\n",
    "temp_m_ss = df.groupby(['store_size_cat', 'year', 'month']).weekly_sales.agg([np.nanmin, np.nanmax, np.nansum, np.nanmean, np.nanmedian, np.nanstd, np.size, zero_cnt]).reset_index().\\\n",
    "rename(columns={'nanmin': 'monthly_sales_store_size_min', \n",
    "                'nanmax': 'monthly_sales_store_size_max',\n",
    "                'nansum': 'monthly_sales_store_size_sum',\n",
    "                'nanmean': 'monthly_sales_store_size_mean',\n",
    "                'nanmedian': 'monthly_sales_store_size_median',\n",
    "                'nanstd': 'monthly_sales_store_size_std',\n",
    "                'size': 'monthly_sales_store_size_size',\n",
    "                'zero_cnt': 'monthly_sales_store_size_zero_cnt'})\n",
    "\n",
    "df = df.merge(temp_m_sd, how='left', on=['store_dept', 'year', 'month'])\n",
    "df = df.merge(temp_w_s, how='left', on=['store', 'year', 'week'])\n",
    "df = df.merge(temp_m_s, how='left', on=['store', 'year', 'month'])\n",
    "df = df.merge(temp_w_st, how='left', on=['store_type_cat', 'year', 'week'])\n",
    "df = df.merge(temp_m_st, how='left', on=['store_type_cat', 'year', 'month'])\n",
    "df = df.merge(temp_w_ss, how='left', on=['store_size_cat', 'year', 'week'])\n",
    "df = df.merge(temp_m_ss, how='left', on=['store_size_cat', 'year', 'month'])"
   ]
  },
  {
   "cell_type": "markdown",
   "id": "convenient-railway",
   "metadata": {},
   "source": [
    "Tam gdzie wydaje się, że ma to sens tworzę zmienną: jaka była wartość w analogicznym okresie, ale rok temu."
   ]
  },
  {
   "cell_type": "code",
   "execution_count": 45,
   "id": "average-tolerance",
   "metadata": {},
   "outputs": [],
   "source": [
    "# tutaj chyba jedyny sens może mieć weekly_sales oraz temperature z uwagi na sezonowość\n",
    "# nie jestem pewien co do innych, czy przypadkiem tutaj sporego wpływu nie ma też czas - szczególnie paliwo\n",
    "for c in ['weekly_sales', 'temperature', 'fuel_price', \n",
    "          'mark_down1', 'mark_down2', 'mark_down3', 'mark_down4', 'mark_down5', \n",
    "          'cpi', 'unemployment']:\n",
    "    # xxx dla store_dept ale rok temu\n",
    "    temp = df[['year', 'week', 'store_dept', c]].rename(columns={'year': 'year_prev', c: f'{c}_store_dept_year_prev'})\n",
    "    df = df.merge(temp, how='left', on=['year_prev', 'week', 'store_dept'])"
   ]
  },
  {
   "cell_type": "code",
   "execution_count": 46,
   "id": "indoor-accountability",
   "metadata": {},
   "outputs": [],
   "source": [
    "for t in ['weekly', 'monthly']:\n",
    "    tt = 'week' if t == 'weekly' else 'month'\n",
    "    for c in ['store_dept', 'store', 'store_type', 'store_size']:\n",
    "        if  (t != 'weekly') | (c != 'store_dept'):\n",
    "            for s in ['min', 'max', 'sum', 'mean', 'median', 'std', 'size', 'zero_cnt']:\n",
    "                temp = df[['year', tt, c, f'{t}_sales_{c}_{s}']].drop_duplicates().\\\n",
    "                rename(columns={'year': 'year_prev', \n",
    "                                f'{t}_sales_{c}_{s}': f'{t}_sales_{c}_{s}_year_prev'})\n",
    "                df = df.merge(temp, how='left', on=['year_prev', tt, c])"
   ]
  },
  {
   "cell_type": "markdown",
   "id": "bottom-venice",
   "metadata": {},
   "source": [
    "Jeszcze tylko logarytmy na zmiennych skośnych."
   ]
  },
  {
   "cell_type": "code",
   "execution_count": 47,
   "id": "white-parallel",
   "metadata": {},
   "outputs": [],
   "source": [
    "for c in [x for x in df.columns if ('_sales_' in x) & (x != 'weekly_sales') & (x != 'weekly_sales_log1p')]:\n",
    "    df[f'{c}_log1p'] = df[c].map(lambda x: 0 if x < 0 else np.log1p(x))"
   ]
  },
  {
   "cell_type": "markdown",
   "id": "faced-ecology",
   "metadata": {},
   "source": [
    "## Feature selection"
   ]
  },
  {
   "cell_type": "code",
   "execution_count": 48,
   "id": "finished-toronto",
   "metadata": {},
   "outputs": [],
   "source": [
    "target = 'weekly_sales_log1p'"
   ]
  },
  {
   "cell_type": "code",
   "execution_count": 49,
   "id": "blessed-caribbean",
   "metadata": {},
   "outputs": [],
   "source": [
    "# wszystkie zmienne, które mogą mieć sens\n",
    "feats_all = [\n",
    "    'year',\n",
    "    'month',\n",
    "    'week',\n",
    "    'store',\n",
    "    'dept',\n",
    "    'store_dept',\n",
    "    'store_type_cat',\n",
    "    'store_size',\n",
    "    'store_size_cat',\n",
    "    'holiday_fixed_cat',\n",
    "    'is_holiday_fixed',\n",
    "    'is_new_year',\n",
    "    'is_december',\n",
    "    'is_black_friday',\n",
    "    'dept_yr_cnt',\n",
    "    'dept_mo_cnt',\n",
    "    'dept_wk_cnt',\n",
    "    'dept_store_type_yr_cnt',\n",
    "    'dept_store_type_mo_cnt',\n",
    "    'dept_store_type_wk_cnt',\n",
    "#     'weekly_sales_store_dept_year_prev',\n",
    "#     'temperature_store_dept_year_prev',\n",
    "#     'fuel_price_store_dept_year_prev',\n",
    "#     'mark_down1_store_dept_year_prev',\n",
    "#     'mark_down2_store_dept_year_prev',\n",
    "#     'mark_down3_store_dept_year_prev',\n",
    "#     'mark_down4_store_dept_year_prev',\n",
    "#     'mark_down5_store_dept_year_prev',\n",
    "#     'cpi_store_dept_year_prev',\n",
    "#     'unemployment_store_dept_year_prev',\n",
    "#     'weekly_sales_store_min_year_prev',\n",
    "#     'weekly_sales_store_max_year_prev',\n",
    "#     'weekly_sales_store_sum_year_prev',\n",
    "#     'weekly_sales_store_mean_year_prev',\n",
    "#     'weekly_sales_store_median_year_prev',\n",
    "#     'weekly_sales_store_std_year_prev',\n",
    "#     'weekly_sales_store_size_year_prev',\n",
    "#     'weekly_sales_store_zero_cnt_year_prev',\n",
    "#     'weekly_sales_store_type_min_year_prev',\n",
    "#     'weekly_sales_store_type_max_year_prev',\n",
    "#     'weekly_sales_store_type_sum_year_prev',\n",
    "#     'weekly_sales_store_type_mean_year_prev',\n",
    "#     'weekly_sales_store_type_median_year_prev',\n",
    "#     'weekly_sales_store_type_std_year_prev',\n",
    "#     'weekly_sales_store_type_size_year_prev',\n",
    "#     'weekly_sales_store_type_zero_cnt_year_prev',\n",
    "#     'weekly_sales_store_size_min_year_prev',\n",
    "#     'weekly_sales_store_size_max_year_prev',\n",
    "#     'weekly_sales_store_size_sum_year_prev',\n",
    "#     'weekly_sales_store_size_mean_year_prev',\n",
    "#     'weekly_sales_store_size_median_year_prev',\n",
    "#     'weekly_sales_store_size_std_year_prev',\n",
    "#     'weekly_sales_store_size_size_year_prev',\n",
    "#     'weekly_sales_store_size_zero_cnt_year_prev',\n",
    "#     'monthly_sales_store_dept_min_year_prev',\n",
    "#     'monthly_sales_store_dept_max_year_prev',\n",
    "#     'monthly_sales_store_dept_sum_year_prev',\n",
    "#     'monthly_sales_store_dept_mean_year_prev',\n",
    "#     'monthly_sales_store_dept_median_year_prev',\n",
    "#     'monthly_sales_store_dept_std_year_prev',\n",
    "#     'monthly_sales_store_dept_size_year_prev',\n",
    "#     'monthly_sales_store_dept_zero_cnt_year_prev',\n",
    "#     'monthly_sales_store_min_year_prev',\n",
    "#     'monthly_sales_store_max_year_prev',\n",
    "#     'monthly_sales_store_sum_year_prev',\n",
    "#     'monthly_sales_store_mean_year_prev',\n",
    "#     'monthly_sales_store_median_year_prev',\n",
    "#     'monthly_sales_store_std_year_prev',\n",
    "#     'monthly_sales_store_size_year_prev',\n",
    "#     'monthly_sales_store_zero_cnt_year_prev',\n",
    "#     'monthly_sales_store_type_min_year_prev',\n",
    "#     'monthly_sales_store_type_max_year_prev',\n",
    "#     'monthly_sales_store_type_sum_year_prev',\n",
    "#     'monthly_sales_store_type_mean_year_prev',\n",
    "#     'monthly_sales_store_type_median_year_prev',\n",
    "#     'monthly_sales_store_type_std_year_prev',\n",
    "#     'monthly_sales_store_type_size_year_prev',\n",
    "#     'monthly_sales_store_type_zero_cnt_year_prev',\n",
    "#     'monthly_sales_store_size_min_year_prev',\n",
    "#     'monthly_sales_store_size_max_year_prev',\n",
    "#     'monthly_sales_store_size_sum_year_prev',\n",
    "#     'monthly_sales_store_size_mean_year_prev',\n",
    "#     'monthly_sales_store_size_median_year_prev',\n",
    "#     'monthly_sales_store_size_std_year_prev',\n",
    "#     'monthly_sales_store_size_size_year_prev',\n",
    "#     'monthly_sales_store_size_zero_cnt_year_prev',\n",
    "    'weekly_sales_store_dept_year_prev_log1p',\n",
    "    'weekly_sales_store_min_year_prev_log1p',\n",
    "    'weekly_sales_store_max_year_prev_log1p',\n",
    "    'weekly_sales_store_sum_year_prev_log1p',\n",
    "    'weekly_sales_store_mean_year_prev_log1p',\n",
    "    'weekly_sales_store_median_year_prev_log1p',\n",
    "    'weekly_sales_store_std_year_prev_log1p',\n",
    "    'weekly_sales_store_size_year_prev_log1p',\n",
    "    'weekly_sales_store_zero_cnt_year_prev_log1p',\n",
    "    'weekly_sales_store_type_min_year_prev_log1p',\n",
    "    'weekly_sales_store_type_max_year_prev_log1p',\n",
    "    'weekly_sales_store_type_sum_year_prev_log1p',\n",
    "    'weekly_sales_store_type_mean_year_prev_log1p',\n",
    "    'weekly_sales_store_type_median_year_prev_log1p',\n",
    "    'weekly_sales_store_type_std_year_prev_log1p',\n",
    "    'weekly_sales_store_type_size_year_prev_log1p',\n",
    "    'weekly_sales_store_type_zero_cnt_year_prev_log1p',\n",
    "    'weekly_sales_store_size_min_year_prev_log1p',\n",
    "    'weekly_sales_store_size_max_year_prev_log1p',\n",
    "    'weekly_sales_store_size_sum_year_prev_log1p',\n",
    "    'weekly_sales_store_size_mean_year_prev_log1p',\n",
    "    'weekly_sales_store_size_median_year_prev_log1p',\n",
    "    'weekly_sales_store_size_std_year_prev_log1p',\n",
    "    'weekly_sales_store_size_size_year_prev_log1p',\n",
    "    'weekly_sales_store_size_zero_cnt_year_prev_log1p',\n",
    "    'monthly_sales_store_dept_min_year_prev_log1p',\n",
    "    'monthly_sales_store_dept_max_year_prev_log1p',\n",
    "    'monthly_sales_store_dept_sum_year_prev_log1p',\n",
    "    'monthly_sales_store_dept_mean_year_prev_log1p',\n",
    "    'monthly_sales_store_dept_median_year_prev_log1p',\n",
    "    'monthly_sales_store_dept_std_year_prev_log1p',\n",
    "    'monthly_sales_store_dept_size_year_prev_log1p',\n",
    "    'monthly_sales_store_dept_zero_cnt_year_prev_log1p',\n",
    "    'monthly_sales_store_min_year_prev_log1p',\n",
    "    'monthly_sales_store_max_year_prev_log1p',\n",
    "    'monthly_sales_store_sum_year_prev_log1p',\n",
    "    'monthly_sales_store_mean_year_prev_log1p',\n",
    "    'monthly_sales_store_median_year_prev_log1p',\n",
    "    'monthly_sales_store_std_year_prev_log1p',\n",
    "    'monthly_sales_store_size_year_prev_log1p',\n",
    "    'monthly_sales_store_zero_cnt_year_prev_log1p',\n",
    "    'monthly_sales_store_type_min_year_prev_log1p',\n",
    "    'monthly_sales_store_type_max_year_prev_log1p',\n",
    "    'monthly_sales_store_type_sum_year_prev_log1p',\n",
    "    'monthly_sales_store_type_mean_year_prev_log1p',\n",
    "    'monthly_sales_store_type_median_year_prev_log1p',\n",
    "    'monthly_sales_store_type_std_year_prev_log1p',\n",
    "    'monthly_sales_store_type_size_year_prev_log1p',\n",
    "    'monthly_sales_store_type_zero_cnt_year_prev_log1p',\n",
    "    'monthly_sales_store_size_min_year_prev_log1p',\n",
    "    'monthly_sales_store_size_max_year_prev_log1p',\n",
    "    'monthly_sales_store_size_sum_year_prev_log1p',\n",
    "    'monthly_sales_store_size_mean_year_prev_log1p',\n",
    "    'monthly_sales_store_size_median_year_prev_log1p',\n",
    "    'monthly_sales_store_size_std_year_prev_log1p',\n",
    "    'monthly_sales_store_size_size_year_prev_log1p',\n",
    "    'monthly_sales_store_size_zero_cnt_year_prev_log1p'\n",
    "]"
   ]
  },
  {
   "cell_type": "code",
   "execution_count": 50,
   "id": "detailed-genome",
   "metadata": {},
   "outputs": [
    {
     "data": {
      "text/plain": [
       "77"
      ]
     },
     "execution_count": 50,
     "metadata": {},
     "output_type": "execute_result"
    }
   ],
   "source": [
    "len(feats_all)"
   ]
  },
  {
   "cell_type": "markdown",
   "id": "graduate-bowling",
   "metadata": {},
   "source": [
    "**Jak sobie radzą startery?**"
   ]
  },
  {
   "cell_type": "code",
   "execution_count": 51,
   "id": "written-advisory",
   "metadata": {},
   "outputs": [],
   "source": [
    "feats_all_cut = [x for x in feats_all if not any([y in x for y in ['_min_', '_max_', '_sum_', '_median_', '_std_', '_size_l', '_zero_']])]\n",
    "\n",
    "df_train = df[df.is_train].copy()\n",
    "df_train.replace([np.inf, -np.inf], np.nan, inplace=True)\n",
    "\n",
    "X = df_train[feats_all_cut].fillna(-1)\n",
    "y = df_train[target]\n",
    "\n",
    "df_test = df[~df.is_train].copy()\n",
    "df_test.replace([np.inf, -np.inf], np.nan, inplace=True)\n",
    "X_test = df_test[feats_all_cut].fillna(-1)\n",
    "X_test= X_test.reset_index(drop=True)"
   ]
  },
  {
   "cell_type": "code",
   "execution_count": 54,
   "id": "interesting-arlington",
   "metadata": {},
   "outputs": [],
   "source": [
    "# model = DecisionTreeRegressor(max_depth=10)\n",
    "# model.fit(X, y)\n",
    "\n",
    "# df_test['weekly_sales'] = model.predict(X_test)\n",
    "# df_test['weekly_sales'] = df_test['weekly_sales'].map(lambda x: np.expm1(x))\n",
    "# df_test[ [\"id\", \"weekly_sales\"] ].to_csv(\"../output/starters_decision_tree.csv\", index=False)"
   ]
  },
  {
   "cell_type": "code",
   "execution_count": 55,
   "id": "center-abortion",
   "metadata": {},
   "outputs": [],
   "source": [
    "# model = RandomForestRegressor()\n",
    "# model.fit(X, y)\n",
    "\n",
    "# df_test['weekly_sales'] = model.predict(X_test)\n",
    "# df_test['weekly_sales'] = df_test['weekly_sales'].map(lambda x: np.expm1(x))\n",
    "# df_test[ [\"id\", \"weekly_sales\"] ].to_csv(\"../output/starters_random_forest.csv\", index=False)"
   ]
  },
  {
   "cell_type": "code",
   "execution_count": 56,
   "id": "focal-conversion",
   "metadata": {},
   "outputs": [],
   "source": [
    "# model = xgb.XGBRegressor()\n",
    "# model.fit(X, y)\n",
    "\n",
    "# df_test['weekly_sales'] = model.predict(X_test)\n",
    "# df_test['weekly_sales'] = df_test['weekly_sales'].map(lambda x: np.expm1(x))\n",
    "# df_test[ [\"id\", \"weekly_sales\"] ].to_csv(\"../output/starters_xgb.csv\", index=False)"
   ]
  },
  {
   "cell_type": "code",
   "execution_count": 57,
   "id": "viral-catholic",
   "metadata": {},
   "outputs": [],
   "source": [
    "# model = lgb.LGBMRegressor()\n",
    "# model.fit(X, y, feature_name=feats_all_cut)\n",
    "\n",
    "# df_test['weekly_sales'] = model.predict(X_test)\n",
    "# df_test['weekly_sales'] = df_test['weekly_sales'].map(lambda x: np.expm1(x))\n",
    "# df_test[ [\"id\", \"weekly_sales\"] ].to_csv(\"../output/starters_lgb.csv\", index=False)"
   ]
  },
  {
   "cell_type": "markdown",
   "id": "floral-cooper",
   "metadata": {},
   "source": [
    "**Czy może być lepiej? LightGB**"
   ]
  },
  {
   "cell_type": "markdown",
   "id": "featured-olympus",
   "metadata": {},
   "source": [
    "### ELI5"
   ]
  },
  {
   "cell_type": "code",
   "execution_count": 58,
   "id": "exact-emphasis",
   "metadata": {},
   "outputs": [],
   "source": [
    "df_train = df[df.is_train].copy()\n",
    "df_train.replace([np.inf, -np.inf], np.nan, inplace=True)\n",
    "\n",
    "X = df_train[feats_all].fillna(-1)\n",
    "y = df_train[target]"
   ]
  },
  {
   "cell_type": "code",
   "execution_count": 59,
   "id": "wrong-brunei",
   "metadata": {},
   "outputs": [],
   "source": [
    "# model = lgb.LGBMRegressor()\n",
    "# model.fit(X, y, feature_name=feats_all)\n",
    "\n",
    "# imp = PermutationImportance(model, random_state=2022, cv=ShuffleSplit(n_splits=3)).fit(X, y)\n",
    "\n",
    "# eli5_weights = eli5.show_weights(imp, feature_names=feats_all, top=100)\n",
    "# eli5_weights_table = pd.read_html(eli5_weights.data)[0].loc[:99,]\n",
    "# eli5_weights_table['w'] = eli5_weights_table['Weight'].map(lambda x: np.float(x.split(' ')[0]) + np.float(x.split(' ')[-1]))\n",
    "# eli5_weights_table = eli5_weights_table[eli5_weights_table.w > 0.001]\n",
    "# eli5_weights"
   ]
  },
  {
   "cell_type": "code",
   "execution_count": 60,
   "id": "average-europe",
   "metadata": {},
   "outputs": [],
   "source": [
    "# feats_eli = list(eli5_weights_table.sort_values('w', ascending=False)['Feature'][:30])\n",
    "# feats_eli"
   ]
  },
  {
   "cell_type": "code",
   "execution_count": 61,
   "id": "peaceful-matrix",
   "metadata": {},
   "outputs": [],
   "source": [
    "feats_eli = [\n",
    "    'dept',\n",
    "    'weekly_sales_store_min_year_prev_log1p',\n",
    "    'weekly_sales_store_dept_year_prev_log1p',\n",
    "    'store_size',\n",
    "    'monthly_sales_store_dept_mean_year_prev_log1p',\n",
    "    'weekly_sales_store_max_year_prev_log1p',\n",
    "    'weekly_sales_store_type_zero_cnt_year_prev_log1p',\n",
    "    'weekly_sales_store_sum_year_prev_log1p',\n",
    "    'store_dept',\n",
    "    'monthly_sales_store_dept_min_year_prev_log1p',\n",
    "    'week',\n",
    "    'dept_yr_cnt',\n",
    "    'store',\n",
    "    'store_type_cat',\n",
    "    'year',\n",
    "    'monthly_sales_store_dept_sum_year_prev_log1p',\n",
    "    'weekly_sales_store_mean_year_prev_log1p',\n",
    "    'weekly_sales_store_median_year_prev_log1p',\n",
    "    'monthly_sales_store_dept_median_year_prev_log1p',\n",
    "    'monthly_sales_store_size_year_prev_log1p',\n",
    "    'weekly_sales_store_size_size_year_prev_log1p',\n",
    "    'dept_store_type_wk_cnt',\n",
    "    'store_size_cat',\n",
    "    'monthly_sales_store_type_std_year_prev_log1p',\n",
    "    'dept_store_type_yr_cnt',\n",
    "    'dept_wk_cnt',\n",
    "    'monthly_sales_store_max_year_prev_log1p',\n",
    "    'monthly_sales_store_std_year_prev_log1p',\n",
    "    'dept_mo_cnt',\n",
    "    'weekly_sales_store_size_year_prev_log1p'\n",
    "]"
   ]
  },
  {
   "cell_type": "markdown",
   "id": "breeding-match",
   "metadata": {},
   "source": [
    "### Parameters Optimization"
   ]
  },
  {
   "cell_type": "code",
   "execution_count": 62,
   "id": "logical-prophet",
   "metadata": {},
   "outputs": [],
   "source": [
    "X = X[feats_eli]"
   ]
  },
  {
   "cell_type": "code",
   "execution_count": 63,
   "id": "radical-luther",
   "metadata": {},
   "outputs": [],
   "source": [
    "# def objective(trial, X=X, y=y, test_size=0.2):\n",
    "#     train_x, test_x, train_y, test_y = train_test_split(X, y, test_size=test_size, random_state=2022)\n",
    "    \n",
    "#     param = {\n",
    "#         'metric': 'mae', \n",
    "#         'random_state': 2022,\n",
    "#         'n_estimators': 500,\n",
    "#         'reg_alpha': trial.suggest_loguniform('reg_alpha', 1e-3, 10.0),\n",
    "#         'reg_lambda': trial.suggest_loguniform('reg_lambda', 1e-3, 10.0),\n",
    "#         'colsample_bytree': trial.suggest_categorical('colsample_bytree', [0.3,0.4,0.5,0.6,0.7,0.8,0.9, 1.0]),\n",
    "#         'subsample': trial.suggest_categorical('subsample', [0.4,0.5,0.6,0.7,0.8,1.0]),\n",
    "#         'learning_rate': trial.suggest_categorical('learning_rate', [0.006,0.008,0.01,0.014,0.017,0.02]),\n",
    "#         'max_depth': trial.suggest_categorical('max_depth', [10,20,100]),\n",
    "#         'num_leaves' : trial.suggest_int('num_leaves', 1, 1000),\n",
    "#         'min_child_samples': trial.suggest_int('min_child_samples', 1, 300),\n",
    "#         'cat_smooth' : trial.suggest_int('cat_smooth', 1, 100)\n",
    "#     }\n",
    "#     model = lgb.LGBMRegressor(**param)  \n",
    "    \n",
    "#     model.fit(train_x, train_y, eval_set=[(test_x, test_y)], callbacks=[lgb.early_stopping(100)])\n",
    "    \n",
    "#     preds = model.predict(test_x)\n",
    "\n",
    "#     mae = mean_absolute_error(test_y.map(lambda x: np.expm1(x)), list(map(lambda x: np.expm1(x), list(preds))))\n",
    "    \n",
    "#     return mae"
   ]
  },
  {
   "cell_type": "code",
   "execution_count": 64,
   "id": "simplified-powder",
   "metadata": {},
   "outputs": [],
   "source": [
    "# study = optuna.create_study(direction='minimize')\n",
    "# study.optimize(objective, n_trials=30)\n",
    "# print('Number of finished trials:', len(study.trials))\n",
    "# print('Best trial:', study.best_trial.params)"
   ]
  },
  {
   "cell_type": "code",
   "execution_count": 65,
   "id": "leading-assets",
   "metadata": {
    "scrolled": true
   },
   "outputs": [],
   "source": [
    "# best_params = study.best_params\n",
    "# best_params['metric'] = 'mae'\n",
    "# best_params['random_state'] = 2022\n",
    "# best_params['n_estimators'] = 500\n",
    "# best_params"
   ]
  },
  {
   "cell_type": "code",
   "execution_count": 66,
   "id": "hundred-secondary",
   "metadata": {},
   "outputs": [],
   "source": [
    "best_params = {\n",
    "    'reg_alpha': 0.01727315863574898,\n",
    "    'reg_lambda': 0.002863238728190346,\n",
    "    'colsample_bytree': 1.0,\n",
    "    'subsample': 0.6,\n",
    "    'learning_rate': 0.02,\n",
    "    'max_depth': 20,\n",
    "    'num_leaves': 888,\n",
    "    'min_child_samples': 30,\n",
    "    'cat_smooth': 99,\n",
    "    'metric': 'mae',\n",
    "    'random_state': 2022,\n",
    "    'n_estimators': 500\n",
    "}"
   ]
  },
  {
   "cell_type": "markdown",
   "id": "joined-excess",
   "metadata": {},
   "source": [
    "### TEST + COMMIT"
   ]
  },
  {
   "cell_type": "code",
   "execution_count": 67,
   "id": "alike-moderator",
   "metadata": {},
   "outputs": [
    {
     "name": "stdout",
     "output_type": "stream",
     "text": [
      "Training until validation scores don't improve for 100 rounds\n",
      "Did not meet early stopping. Best iteration is:\n",
      "[500]\ttraining's l1: 0.162571\tvalid_1's l1: 0.193611\n"
     ]
    },
    {
     "data": {
      "text/plain": [
       "LGBMRegressor(cat_smooth=99, learning_rate=0.02, max_depth=20, metric='mae',\n",
       "              min_child_samples=30, n_estimators=500, num_leaves=888,\n",
       "              random_state=2022, reg_alpha=0.01727315863574898,\n",
       "              reg_lambda=0.002863238728190346, subsample=0.6)"
      ]
     },
     "execution_count": 67,
     "metadata": {},
     "output_type": "execute_result"
    }
   ],
   "source": [
    "train_x, test_x, train_y, test_y = train_test_split(X, y, test_size=0.1, random_state=2022)\n",
    "\n",
    "model = lgb.LGBMRegressor(**best_params)  \n",
    "model.fit(train_x, train_y, eval_set=[(train_x, train_y), (test_x, test_y)], callbacks=[lgb.early_stopping(100)])"
   ]
  },
  {
   "cell_type": "code",
   "execution_count": 68,
   "id": "confident-pizza",
   "metadata": {},
   "outputs": [
    {
     "data": {
      "text/plain": [
       "1565.688056646434"
      ]
     },
     "execution_count": 68,
     "metadata": {},
     "output_type": "execute_result"
    }
   ],
   "source": [
    "preds = model.predict(test_x)\n",
    "mae = mean_absolute_error(test_y.map(lambda x: np.expm1(x)), list(map(lambda x: np.expm1(x), list(preds))))\n",
    "mae"
   ]
  },
  {
   "cell_type": "code",
   "execution_count": 69,
   "id": "isolated-sacramento",
   "metadata": {},
   "outputs": [
    {
     "data": {
      "text/plain": [
       "<AxesSubplot:title={'center':'Metric during training'}, xlabel='Iterations', ylabel='l1'>"
      ]
     },
     "execution_count": 69,
     "metadata": {},
     "output_type": "execute_result"
    },
    {
     "data": {
      "image/png": "[encoded data removed]",
      "text/plain": [
       "<Figure size 1080x360 with 1 Axes>"
      ]
     },
     "metadata": {
      "needs_background": "light"
     },
     "output_type": "display_data"
    }
   ],
   "source": [
    "lgb.plot_metric(model)"
   ]
  },
  {
   "cell_type": "code",
   "execution_count": 70,
   "id": "interested-atlas",
   "metadata": {},
   "outputs": [],
   "source": [
    "# commit\n",
    "df_test = df[~df.is_train].copy()\n",
    "df_test.replace([np.inf, -np.inf], np.nan, inplace=True)\n",
    "X_test = df_test[feats_eli].fillna(-1)\n",
    "X_test= X_test.reset_index(drop=True)\n",
    "\n",
    "df_test['weekly_sales'] = model.predict(X_test)\n",
    "df_test['weekly_sales'] = df_test['weekly_sales'].map(lambda x: np.expm1(x))"
   ]
  },
  {
   "cell_type": "code",
   "execution_count": 71,
   "id": "least-closer",
   "metadata": {},
   "outputs": [],
   "source": [
    "df_test[ [\"id\", \"weekly_sales\"] ].to_csv(\"../output/lgb_final.csv\", index=False)"
   ]
  },
  {
   "cell_type": "markdown",
   "id": "adaptive-virginia",
   "metadata": {},
   "source": [
    "**Czy może być lepiej? RandomForrest**\n",
    "\n",
    "Za długo się liczy, dlatego odpuszczam..."
   ]
  },
  {
   "cell_type": "markdown",
   "id": "discrete-enemy",
   "metadata": {},
   "source": [
    "# ELI5"
   ]
  },
  {
   "cell_type": "code",
   "execution_count": null,
   "id": "assured-implement",
   "metadata": {},
   "outputs": [],
   "source": [
    "# df_train = df[df.is_train].copy().sample(2000)\n",
    "# df_train.replace([np.inf, -np.inf], np.nan, inplace=True)\n",
    "\n",
    "# X = df_train[feats_all].fillna(-1).reset_index(drop=True)\n",
    "# y = df_train[target].reset_index(drop=True)"
   ]
  },
  {
   "cell_type": "code",
   "execution_count": null,
   "id": "appropriate-teacher",
   "metadata": {},
   "outputs": [],
   "source": [
    "# model = RandomForestRegressor()\n",
    "# model.fit(X, y)\n",
    "\n",
    "# imp = PermutationImportance(model, random_state=2022, cv=ShuffleSplit(n_splits=3)).fit(X, y)\n",
    "\n",
    "# eli5_weights = eli5.show_weights(imp, feature_names=feats_all, top=100)\n",
    "# eli5_weights_table = pd.read_html(eli5_weights.data)[0].loc[:99,]\n",
    "# eli5_weights_table['w'] = eli5_weights_table['Weight'].map(lambda x: np.float(x.split(' ')[0]) + np.float(x.split(' ')[-1]))\n",
    "# eli5_weights_table = eli5_weights_table[eli5_weights_table.w.map(abs) > 0.001]\n",
    "# eli5_weights"
   ]
  },
  {
   "cell_type": "code",
   "execution_count": null,
   "id": "foreign-newman",
   "metadata": {},
   "outputs": [],
   "source": [
    "# feats_eli = list(eli5_weights_table.sort_values('w', ascending=False)['Feature'][:30])\n",
    "# feats_eli"
   ]
  },
  {
   "cell_type": "code",
   "execution_count": null,
   "id": "every-mentor",
   "metadata": {},
   "outputs": [],
   "source": [
    "# feats_eli = [\n",
    "#     'weekly_sales_store_dept_year_prev_log1p',\n",
    "#     'dept',\n",
    "#     'monthly_sales_store_type_std_year_prev_log1p',\n",
    "#     'store_size',\n",
    "#     'weekly_sales_store_type_std_year_prev_log1p',\n",
    "#     'store_dept',\n",
    "#     'dept_store_type_wk_cnt',\n",
    "#     'monthly_sales_store_dept_mean_year_prev_log1p',\n",
    "#     'dept_wk_cnt',\n",
    "#     'monthly_sales_store_dept_sum_year_prev_log1p',\n",
    "#     'store',\n",
    "#     'weekly_sales_store_std_year_prev_log1p',\n",
    "#     'weekly_sales_store_max_year_prev_log1p',\n",
    "#     'monthly_sales_store_dept_min_year_prev_log1p',\n",
    "#     'store_size_cat',\n",
    "#     'monthly_sales_store_dept_median_year_prev_log1p',\n",
    "#     'dept_store_type_mo_cnt',\n",
    "#     'weekly_sales_store_size_max_year_prev_log1p',\n",
    "#     'weekly_sales_store_mean_year_prev_log1p',\n",
    "#     'year',\n",
    "#     'week',\n",
    "#     'dept_yr_cnt',\n",
    "#     'dept_mo_cnt',\n",
    "#     'weekly_sales_store_median_year_prev_log1p',\n",
    "#     'monthly_sales_store_mean_year_prev_log1p',\n",
    "#     'monthly_sales_store_max_year_prev_log1p',\n",
    "#     'weekly_sales_store_size_year_prev_log1p',\n",
    "#     'weekly_sales_store_size_std_year_prev_log1p',\n",
    "#     'dept_store_type_yr_cnt',\n",
    "#     'weekly_sales_store_type_max_year_prev_log1p',\n",
    "#     'store_size_cat',\n",
    "#     'dept_mo_cnt',\n",
    "#     'week',\n",
    "#     'month' ,\n",
    "# ]"
   ]
  },
  {
   "cell_type": "markdown",
   "id": "cooked-count",
   "metadata": {},
   "source": [
    "### Parameters Optimization"
   ]
  },
  {
   "cell_type": "code",
   "execution_count": null,
   "id": "forward-college",
   "metadata": {},
   "outputs": [],
   "source": [
    "# X = X[feats_eli]"
   ]
  },
  {
   "cell_type": "code",
   "execution_count": null,
   "id": "attempted-cause",
   "metadata": {},
   "outputs": [],
   "source": [
    "# def objective(trial, X=X, y=y, test_size=0.2):\n",
    "#     train_x, test_x, train_y, test_y = train_test_split(X, y, test_size=test_size, random_state=2022)\n",
    "    \n",
    "#     param = {\n",
    "#         'criterion': trial.suggest_categorical('criterion', ['mae']),\n",
    "#         'bootstrap': trial.suggest_categorical('bootstrap',['True','False']),\n",
    "#         'max_depth': trial.suggest_int('max_depth', 1, 10000),\n",
    "#         'max_features': trial.suggest_categorical('max_features', ['auto', 'sqrt','log2']),\n",
    "#         'max_leaf_nodes': trial.suggest_int('max_leaf_nodes', 1, 10000),\n",
    "#         'n_estimators': trial.suggest_int('n_estimators', 30, 1000) ,\n",
    "#     }\n",
    "#     model = RandomForestRegressor(**param)  \n",
    "    \n",
    "#     model.fit(train_x, train_y)\n",
    "    \n",
    "#     preds = model.predict(test_x)\n",
    "\n",
    "#     mae = mean_absolute_error(test_y.map(lambda x: np.expm1(x)), list(map(lambda x: np.expm1(x), list(preds))))\n",
    "    \n",
    "#     return mae"
   ]
  },
  {
   "cell_type": "code",
   "execution_count": null,
   "id": "altered-airfare",
   "metadata": {},
   "outputs": [],
   "source": [
    "# study = optuna.create_study(direction='minimize')\n",
    "# study.optimize(objective, n_trials=5)\n",
    "# print('Number of finished trials:', len(study.trials))\n",
    "# print('Best trial:', study.best_trial.params)"
   ]
  },
  {
   "cell_type": "code",
   "execution_count": null,
   "id": "incoming-hamburg",
   "metadata": {
    "scrolled": true
   },
   "outputs": [],
   "source": [
    "# best_params = study.best_params\n",
    "# best_params"
   ]
  },
  {
   "cell_type": "code",
   "execution_count": null,
   "id": "domestic-bradford",
   "metadata": {},
   "outputs": [],
   "source": [
    "# best_params = {\n",
    "#     'criterion': 'mae',\n",
    "#     'bootstrap': 'True',\n",
    "#     'max_depth': 4173,\n",
    "#     'max_features': 'auto',\n",
    "#     'max_leaf_nodes': 4402,\n",
    "#     'n_estimators': 475\n",
    "# }"
   ]
  },
  {
   "cell_type": "markdown",
   "id": "strong-interference",
   "metadata": {},
   "source": [
    "### TEST + COMMIT"
   ]
  },
  {
   "cell_type": "code",
   "execution_count": null,
   "id": "english-cooling",
   "metadata": {},
   "outputs": [],
   "source": [
    "# df_train = df[df.is_train].copy()\n",
    "# df_train.replace([np.inf, -np.inf], np.nan, inplace=True)\n",
    "\n",
    "# X = df_train[feats_all].fillna(-1).reset_index(drop=True)\n",
    "# y = df_train[target].reset_index(drop=True)\n",
    "\n",
    "# train_x, test_x, train_y, test_y = train_test_split(X, y, test_size=0.1, random_state=2022)\n",
    "\n",
    "# model = RandomForestRegressor(**best_params)  \n",
    "# model.fit(train_x, train_y)"
   ]
  },
  {
   "cell_type": "code",
   "execution_count": null,
   "id": "boxed-relation",
   "metadata": {},
   "outputs": [],
   "source": [
    "# preds = model.predict(test_x)\n",
    "# mae = mean_absolute_error(test_y.map(lambda x: np.expm1(x)), list(map(lambda x: np.expm1(x), list(preds))))\n",
    "# mae"
   ]
  },
  {
   "cell_type": "code",
   "execution_count": null,
   "id": "controversial-penguin",
   "metadata": {},
   "outputs": [],
   "source": [
    "# # commit\n",
    "# df_test = df[~df.is_train].copy()\n",
    "# df_test.replace([np.inf, -np.inf], np.nan, inplace=True)\n",
    "# X_test = df_test[feats_eli].fillna(-1)\n",
    "# X_test= X_test.reset_index(drop=True)\n",
    "\n",
    "# df_test['weekly_sales'] = model.predict(X_test)\n",
    "# df_test['weekly_sales'] = df_test['weekly_sales'].map(lambda x: np.expm1(x))"
   ]
  },
  {
   "cell_type": "code",
   "execution_count": null,
   "id": "dried-collapse",
   "metadata": {},
   "outputs": [],
   "source": [
    "# df_test[ [\"id\", \"weekly_sales\"] ].to_csv(\"../output/random_forest_final.csv\", index=False)"
   ]
  },
  {
   "cell_type": "code",
   "execution_count": null,
   "id": "entertaining-communications",
   "metadata": {},
   "outputs": [],
   "source": []
  }
 ],
 "metadata": {
  "kernelspec": {
   "display_name": "Python 3",
   "language": "python",
   "name": "python3"
  },
  "language_info": {
   "codemirror_mode": {
    "name": "ipython",
    "version": 3
   },
   "file_extension": ".py",
   "mimetype": "text/x-python",
   "name": "python",
   "nbconvert_exporter": "python",
   "pygments_lexer": "ipython3",
   "version": "3.8.6"
  }
 },
 "nbformat": 4,
 "nbformat_minor": 5
}
